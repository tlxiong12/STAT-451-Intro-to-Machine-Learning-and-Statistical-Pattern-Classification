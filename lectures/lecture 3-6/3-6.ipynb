{
 "cells": [
  {
   "cell_type": "markdown",
   "id": "bf72099e-0155-4ab1-af59-360e23780d96",
   "metadata": {},
   "source": [
    "summary sheet of material, write down things that you don't understand, make a formula sheet? \n",
    "BRING A CALCULATOR!!!!!\n"
   ]
  },
  {
   "cell_type": "markdown",
   "id": "1dd5ea48-0e20-4de2-a33e-3eb9e3aef655",
   "metadata": {},
   "source": [
    "conditional examples\n",
    "if condition:\n",
    "    expression ONLY IF TRUE\n",
    "\n"
   ]
  },
  {
   "cell_type": "code",
   "execution_count": 4,
   "id": "55b7c38c-f114-49fc-a94e-97fb7f873cac",
   "metadata": {},
   "outputs": [
    {
     "data": {
      "text/plain": [
       "6"
      ]
     },
     "execution_count": 4,
     "metadata": {},
     "output_type": "execute_result"
    }
   ],
   "source": [
    "x = 3\n",
    "if x > 0:\n",
    "    x +=3\n",
    "\n",
    "x"
   ]
  },
  {
   "cell_type": "markdown",
   "id": "b69f2fb5-6743-45bc-acb4-3bcf4a3253d4",
   "metadata": {},
   "source": [
    "if condition not true, returns false, or stays the same"
   ]
  },
  {
   "cell_type": "code",
   "execution_count": 6,
   "id": "66b82afc-dae6-42f3-af4b-37d3c81c8de1",
   "metadata": {},
   "outputs": [
    {
     "data": {
      "text/plain": [
       "3"
      ]
     },
     "execution_count": 6,
     "metadata": {},
     "output_type": "execute_result"
    }
   ],
   "source": [
    "x = 3\n",
    "if x == 0:\n",
    "    x +=2\n",
    "\n",
    "x"
   ]
  },
  {
   "cell_type": "code",
   "execution_count": 10,
   "id": "1cfd3990-78d8-49e0-b3b0-a0a3410c7518",
   "metadata": {},
   "outputs": [
    {
     "data": {
      "text/plain": [
       "array(['odd', 'even', 'odd'], dtype='<U4')"
      ]
     },
     "execution_count": 10,
     "metadata": {},
     "output_type": "execute_result"
    }
   ],
   "source": [
    "import numpy as np\n",
    "x = np.array([1, 2, 3])\n",
    "parity = np.where((x % 2) == 0, 'even', 'odd')\n",
    "parity"
   ]
  },
  {
   "cell_type": "code",
   "execution_count": 144,
   "id": "7f8ee0c9-757d-4fe3-9b41-d6bb1a49c09f",
   "metadata": {},
   "outputs": [
    {
     "data": {
      "text/plain": [
       "43.0"
      ]
     },
     "execution_count": 144,
     "metadata": {},
     "output_type": "execute_result"
    }
   ],
   "source": [
    "def is_heads(): # return True or False to simulate a coin flip\n",
    "    rng = np.random.default_rng() # no seed here!\n",
    "    r = rng.normal(size=1)\n",
    "    if (r < 0):\n",
    "        return True\n",
    "    else:\n",
    "        return False\n",
    "N = 100 # test is_heads():\n",
    "coins = np.empty(N)\n",
    "for i in range(N):\n",
    "    coins[i] = is_heads()\n",
    "    np.mean(coins)\n",
    "def is_heads(): # shorter version\n",
    "    rng = np.random.default_rng()\n",
    "    r = rng.normal(size=1)\n",
    "    return r < 0\n",
    "def is_heads(): # even shorter\n",
    "    rng = np.random.default_rng()\n",
    "    return rng.normal(size=1) < 0\n",
    "def is_heads(): # or, better from the start\n",
    "    rng = np.random.default_rng()\n",
    "    return rng.choice([True, False])\n",
    "\n",
    "sum(coins)"
   ]
  },
  {
   "cell_type": "code",
   "execution_count": 152,
   "id": "a1ad01d2-938f-49c5-8e03-dba00c4d0b9f",
   "metadata": {},
   "outputs": [
    {
     "ename": "ValueError",
     "evalue": "The truth value of an array with more than one element is ambiguous. Use a.any() or a.all()",
     "output_type": "error",
     "traceback": [
      "\u001b[1;31m---------------------------------------------------------------------------\u001b[0m",
      "\u001b[1;31mValueError\u001b[0m                                Traceback (most recent call last)",
      "Cell \u001b[1;32mIn[152], line 7\u001b[0m\n\u001b[0;32m      5\u001b[0m         \u001b[38;5;28;01mreturn\u001b[39;00m b\n\u001b[0;32m      6\u001b[0m \u001b[38;5;28;01massert\u001b[39;00m (np\u001b[38;5;241m.\u001b[39misclose(\u001b[38;5;241m4\u001b[39m, baby_max(\u001b[38;5;241m3\u001b[39m, \u001b[38;5;241m4\u001b[39m)) \u001b[38;5;241m&\u001b[39m np\u001b[38;5;241m.\u001b[39misclose(\u001b[38;5;241m3\u001b[39m, baby_max(\u001b[38;5;241m3\u001b[39m, \u001b[38;5;241m-\u001b[39m\u001b[38;5;241m4\u001b[39m)))\n\u001b[1;32m----> 7\u001b[0m x \u001b[38;5;241m=\u001b[39m np\u001b[38;5;241m.\u001b[39marray([\u001b[38;5;241m3\u001b[39m, \u001b[38;5;241m3\u001b[39m]); y \u001b[38;5;241m=\u001b[39m np\u001b[38;5;241m.\u001b[39marray([\u001b[38;5;241m4\u001b[39m, \u001b[38;5;241m-\u001b[39m\u001b[38;5;241m4\u001b[39m]); m \u001b[38;5;241m=\u001b[39m baby_max(x, y) \u001b[38;5;66;03m# BUG\u001b[39;00m\n\u001b[0;32m      8\u001b[0m \u001b[38;5;28;01mdef\u001b[39;00m \u001b[38;5;21mbaby_max\u001b[39m(a, b): \u001b[38;5;66;03m# improved to work for array\u001b[39;00m\n\u001b[0;32m      9\u001b[0m     \u001b[38;5;28;01mreturn\u001b[39;00m np\u001b[38;5;241m.\u001b[39mwhere(a \u001b[38;5;241m>\u001b[39m b, a, b)\n",
      "Cell \u001b[1;32mIn[152], line 2\u001b[0m, in \u001b[0;36mbaby_max\u001b[1;34m(a, b)\u001b[0m\n\u001b[0;32m      1\u001b[0m \u001b[38;5;28;01mdef\u001b[39;00m \u001b[38;5;21mbaby_max\u001b[39m(a, b): \u001b[38;5;66;03m# implements part of np.max(); fails for array\u001b[39;00m\n\u001b[1;32m----> 2\u001b[0m     \u001b[38;5;28;01mif\u001b[39;00m a \u001b[38;5;241m>\u001b[39m b:\n\u001b[0;32m      3\u001b[0m         \u001b[38;5;28;01mreturn\u001b[39;00m a\n\u001b[0;32m      4\u001b[0m     \u001b[38;5;28;01melse\u001b[39;00m:\n",
      "\u001b[1;31mValueError\u001b[0m: The truth value of an array with more than one element is ambiguous. Use a.any() or a.all()"
     ]
    }
   ],
   "source": [
    "def baby_max(a, b): # implements part of np.max(); fails for array\n",
    "    if a > b:\n",
    "        return a\n",
    "    else:\n",
    "        return b\n",
    "        \n",
    "assert (np.isclose(4, baby_max(3, 4)) & np.isclose(3, baby_max(3, -4)))\n",
    "x = np.array([3, 3]); y = np.array([4, -4]); m = baby_max(x, y) # BUG\n",
    "def baby_max(a, b): # improved to work for array\n",
    "    return np.where(a > b, a, b)\n",
    "assert (np.isclose(4, baby_max(3, 4)) & np.isclose(3, baby_max(3, -4)))\n",
    "x = np.array([3, 3]); y = np.array([4, -4]); m = baby_max(x, y)\n",
    "assert (np.isclose(4, m[0]) & np.isclose(3, m[1]))"
   ]
  },
  {
   "cell_type": "markdown",
   "id": "e21d9db9-1b3d-4f51-9e5f-0a2d6e10e42d",
   "metadata": {},
   "source": [
    "regex wooooo\n"
   ]
  },
  {
   "cell_type": "code",
   "execution_count": 170,
   "id": "42a67bf4-d7d7-4a56-9c64-f4c30681cc53",
   "metadata": {},
   "outputs": [],
   "source": [
    "import re\n",
    "\n",
    "re.search(string = 'test012', pattern = \"0-9\")"
   ]
  },
  {
   "cell_type": "code",
   "execution_count": 176,
   "id": "a3ea4626-e36b-4f8b-8bcd-3e62dcb63973",
   "metadata": {},
   "outputs": [],
   "source": [
    "test = re.search(string = 'test012', pattern = \"0-9\")\n",
    "test"
   ]
  },
  {
   "cell_type": "code",
   "execution_count": 180,
   "id": "1e7474e4-9faf-43d8-a9f0-9dc6f98ac269",
   "metadata": {},
   "outputs": [
    {
     "data": {
      "text/plain": [
       "'http://www.google.com'"
      ]
     },
     "execution_count": 180,
     "metadata": {},
     "output_type": "execute_result"
    }
   ],
   "source": [
    "link = 'blah blah blah ... <a href=http://www.google.com>Google</a> blah ...'\n",
    "re.sub(pattern='.*<a href=(.*)>.*' , repl=r'\\1', string=link) # match too much\n",
    "re.sub(pattern='.*<a href=(.*?)>.*' , repl=r'\\1', string=link) # one fix\n",
    "re.sub(pattern='.*<a href=([^>]*)>.*', repl=r'\\1', string=link) # another fix"
   ]
  },
  {
   "cell_type": "code",
   "execution_count": 182,
   "id": "6347caa1-8c28-490e-875e-6267c0e4df50",
   "metadata": {},
   "outputs": [
    {
     "data": {
      "text/plain": [
       "['Joe,Brown,jbrown,123456789',\n",
       " 'Sally,Roukos,sroukos,456789123',\n",
       " 'Jean,Chen,chen,789123456',\n",
       " 'Jack,Juniper,jjuniper,345678912']"
      ]
     },
     "execution_count": 182,
     "metadata": {},
     "output_type": "execute_result"
    }
   ],
   "source": [
    "a = ['Brown,Joe 123456789 jbrown@wisc.edu 1000',\n",
    "'Roukos,Sally 456789123 sroukos@wisc.edu 5000',\n",
    "'Chen,Jean 789123456 chen@wisc.edu 24000',\n",
    "'Juniper,Jack 345678912 jjuniper@wisc.edu 300000']\n",
    "[re.sub(pattern=r'(\\w+),(\\w+) +(\\d+) (\\w+).*', repl=r'\\2,\\1,\\4,\\3', string=s)\n",
    "for s in a]"
   ]
  }
 ],
 "metadata": {
  "kernelspec": {
   "display_name": "Python [conda env:base] *",
   "language": "python",
   "name": "conda-base-py"
  },
  "language_info": {
   "codemirror_mode": {
    "name": "ipython",
    "version": 3
   },
   "file_extension": ".py",
   "mimetype": "text/x-python",
   "name": "python",
   "nbconvert_exporter": "python",
   "pygments_lexer": "ipython3",
   "version": "3.12.7"
  }
 },
 "nbformat": 4,
 "nbformat_minor": 5
}
