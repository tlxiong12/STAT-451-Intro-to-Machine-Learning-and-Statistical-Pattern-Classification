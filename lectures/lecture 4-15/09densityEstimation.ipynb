{
 "cells": [
  {
   "cell_type": "markdown",
   "id": "0f171baf",
   "metadata": {},
   "source": [
    "# Kernel Density Estimation (KDE)"
   ]
  },
  {
   "cell_type": "code",
   "execution_count": null,
   "id": "cd3880a0",
   "metadata": {},
   "outputs": [],
   "source": [
    "import numpy as np\n",
    "import pandas as pd\n",
    "import matplotlib.pyplot as plt\n",
    "\n",
    "from sklearn.neighbors import KernelDensity"
   ]
  },
  {
   "cell_type": "markdown",
   "id": "22f3481f",
   "metadata": {},
   "source": [
    "## Implement $k(x)$ and $f(x)$ to understand the method."
   ]
  },
  {
   "cell_type": "code",
   "execution_count": null,
   "id": "1994d8d0",
   "metadata": {},
   "outputs": [],
   "source": [
    "def k(x, mu=0, sigma=1):\n",
    "    return (1.0 / (sigma * np.sqrt(2 * np.pi)) * np.exp(-(1/2)*((x-mu)/sigma)**2))\n",
    "\n",
    "def f(t, x, b): # return f(t) using data x and bandwidth b\n",
    "    N = x.size\n",
    "    return (1/N) * np.sum((1/b) * k((t - x) / b))"
   ]
  },
  {
   "cell_type": "markdown",
   "id": "97a5bed3",
   "metadata": {},
   "source": [
    "## Make toy data\n",
    "with random $x \\in [0, 3]$"
   ]
  },
  {
   "cell_type": "code",
   "execution_count": null,
   "id": "efd52da1",
   "metadata": {},
   "outputs": [],
   "source": [
    "N = 6\n",
    "low = 0\n",
    "high = 3\n",
    "rng = np.random.default_rng(seed=0)\n",
    "x = np.sort(rng.uniform(low=low, high=high, size=N)) # sort for left-to-right line plot\n",
    "X = x.reshape(-1, 1)"
   ]
  },
  {
   "cell_type": "markdown",
   "id": "d5f804bc",
   "metadata": {},
   "source": [
    "### Run KDE"
   ]
  },
  {
   "cell_type": "code",
   "execution_count": null,
   "id": "80539ffd",
   "metadata": {},
   "outputs": [],
   "source": [
    "plt.plot(x, np.zeros(x.shape), '.', color='black', markersize=10, label='data') # plot data\n",
    "\n",
    "# for understanding, add plots of k(z) bell curves to understand their average, f()\n",
    "b = 1 # also try lower and higher values to see over- and under-fitting\n",
    "for i in np.arange(N):\n",
    "    x_plot_bells = np.linspace(start=low-1, stop=high+1, num=1000)\n",
    "    y_plot_bells = k(x_plot_bells, mu=x[i], sigma=b)\n",
    "    label = np.where(i == 0, f'$\\\\frac{{1}}{{b}} k(\\\\frac{{x-x_i}}{{b}})$ curves', '') # only label first of N curves for legend\n",
    "    plt.plot(x_plot_bells, y_plot_bells, linestyle='dashdot', label=label)\n",
    "\n",
    "# for understanding, add f(x) calculated from formulas\n",
    "x_plot = np.linspace(low-1, high+1, 100)\n",
    "y_hat_formulas = np.zeros(x_plot.shape[0])\n",
    "for i in np.arange(x_plot.shape[0]):\n",
    "    y_hat_formulas[i] = f(x_plot[i], x, b)\n",
    "\n",
    "plt.plot(x_plot, y_hat_formulas, linestyle='solid',\n",
    "         color='black', label=f'f(x) from formulas')\n",
    "\n",
    "# now use KernelDensity()\n",
    "kde = KernelDensity(bandwidth=1, kernel='gaussian')\n",
    "kde.fit(X)\n",
    "log_densities = kde.score_samples(x_plot.reshape(-1, 1))\n",
    "y_hat = np.exp(log_densities)\n",
    "\n",
    "# plot model\n",
    "epsilon = 0.005 # visually separate the kde curve from the formulas curve \n",
    "plt.plot(x_plot, y_hat + epsilon, linestyle='dashed', color='black', label='KDE')\n",
    "\n",
    "#plt.ylim(-1, 8)\n",
    "plt.title('KDE')\n",
    "_ = plt.legend()\n"
   ]
  }
 ],
 "metadata": {
  "kernelspec": {
   "display_name": "Python [conda env:base] *",
   "language": "python",
   "name": "conda-base-py"
  },
  "language_info": {
   "codemirror_mode": {
    "name": "ipython",
    "version": 3
   },
   "file_extension": ".py",
   "mimetype": "text/x-python",
   "name": "python",
   "nbconvert_exporter": "python",
   "pygments_lexer": "ipython3",
   "version": "3.12.7"
  }
 },
 "nbformat": 4,
 "nbformat_minor": 5
}
