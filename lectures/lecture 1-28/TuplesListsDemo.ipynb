{
 "cells": [
  {
   "cell_type": "code",
   "execution_count": 1,
   "metadata": {},
   "outputs": [
    {
     "data": {
      "text/plain": [
       "('Badger', 'Bucky', 'junior', 123, ('FIN 310', 'MATH 223', 'CS 410'))"
      ]
     },
     "execution_count": 1,
     "metadata": {},
     "output_type": "execute_result"
    }
   ],
   "source": [
    "# ---------- Tuples ----------\n",
    "student = ('Badger', 'Bucky', 'junior', 123, ('FIN 310', 'MATH 223', 'CS 410'))\n",
    "student"
   ]
  },
  {
   "cell_type": "code",
   "execution_count": 2,
   "metadata": {},
   "outputs": [
    {
     "data": {
      "text/plain": [
       "tuple"
      ]
     },
     "execution_count": 2,
     "metadata": {},
     "output_type": "execute_result"
    }
   ],
   "source": [
    "type(student)"
   ]
  },
  {
   "cell_type": "code",
   "execution_count": 3,
   "metadata": {},
   "outputs": [
    {
     "data": {
      "text/plain": [
       "tuple"
      ]
     },
     "execution_count": 3,
     "metadata": {},
     "output_type": "execute_result"
    }
   ],
   "source": [
    "type(('apple',)) # tuple of length 1 requires trailiing comma"
   ]
  },
  {
   "cell_type": "code",
   "execution_count": 4,
   "metadata": {},
   "outputs": [
    {
     "data": {
      "text/plain": [
       "str"
      ]
     },
     "execution_count": 4,
     "metadata": {},
     "output_type": "execute_result"
    }
   ],
   "source": [
    "type(('apple'))  # string, not tuple"
   ]
  },
  {
   "cell_type": "code",
   "execution_count": 5,
   "metadata": {},
   "outputs": [],
   "source": [
    "# student[2] = 'senior' # uncomment to see error: tuples are immutable"
   ]
  },
  {
   "cell_type": "code",
   "execution_count": 6,
   "metadata": {},
   "outputs": [
    {
     "data": {
      "text/plain": [
       "('Badger', 'Bucky', 'senior', 123, ('FIN 310', 'MATH 223', 'CS 410'))"
      ]
     },
     "execution_count": 6,
     "metadata": {},
     "output_type": "execute_result"
    }
   ],
   "source": [
    "student = student[0:2] + ('senior',) + student[3:] # change variable, not tuple\n",
    "student"
   ]
  },
  {
   "cell_type": "code",
   "execution_count": 7,
   "metadata": {},
   "outputs": [
    {
     "data": {
      "text/plain": [
       "(2, 1)"
      ]
     },
     "execution_count": 7,
     "metadata": {},
     "output_type": "execute_result"
    }
   ],
   "source": [
    "divmod(7, 3)"
   ]
  },
  {
   "cell_type": "code",
   "execution_count": 8,
   "metadata": {},
   "outputs": [
    {
     "name": "stdout",
     "output_type": "stream",
     "text": [
      "7 divided by 3 yields quotient 2 and remainder 1.\n"
     ]
    }
   ],
   "source": [
    "(quotient, remainder) = divmod(7, 3) # (an unimportant illustrative function)\n",
    "print(f'7 divided by 3 yields quotient {quotient} and remainder {remainder}.')"
   ]
  },
  {
   "cell_type": "code",
   "execution_count": 9,
   "metadata": {},
   "outputs": [
    {
     "data": {
      "text/plain": [
       "[[0, 0], [1, 1], [2, 5], [3, 9]]"
      ]
     },
     "execution_count": 9,
     "metadata": {},
     "output_type": "execute_result"
    }
   ],
   "source": [
    "# ---------- Lists ----------\n",
    "stocks = ['GME', 'AMZN']\n",
    "list_of_lists = [[0, 0], [1, 1], [2, 5], [3, 9]]\n",
    "list_of_lists # oops, [2, 5] should be [2, 4]: let's fix it ..."
   ]
  },
  {
   "cell_type": "code",
   "execution_count": 20,
   "metadata": {},
   "outputs": [
    {
     "data": {
      "text/plain": [
       "[[0, 0], [1, 1], [2, 4], [3, 9]]"
      ]
     },
     "execution_count": 20,
     "metadata": {},
     "output_type": "execute_result"
    }
   ],
   "source": [
    "list_of_lists[2][1] = 4\n",
    "list_of_lists"
   ]
  },
  {
   "cell_type": "code",
   "execution_count": 21,
   "metadata": {},
   "outputs": [
    {
     "data": {
      "text/plain": [
       "['GME', 'TWTR']"
      ]
     },
     "execution_count": 21,
     "metadata": {},
     "output_type": "execute_result"
    }
   ],
   "source": [
    "stocks.append('TWTR')\n",
    "stocks"
   ]
  },
  {
   "cell_type": "code",
   "execution_count": 22,
   "metadata": {},
   "outputs": [
    {
     "data": {
      "text/plain": [
       "['GME', 'TWTR', ['IBM', 'GOOG']]"
      ]
     },
     "execution_count": 22,
     "metadata": {},
     "output_type": "execute_result"
    }
   ],
   "source": [
    "stocks.append(['IBM', 'GOOG'])\n",
    "stocks"
   ]
  },
  {
   "cell_type": "code",
   "execution_count": 13,
   "metadata": {},
   "outputs": [
    {
     "data": {
      "text/plain": [
       "['GME', 'AMZN', 'IBM', 'GOOG']"
      ]
     },
     "execution_count": 13,
     "metadata": {},
     "output_type": "execute_result"
    }
   ],
   "source": [
    "stocks = ['GME', 'AMZN']\n",
    "stocks.extend(['IBM', 'GOOG'])\n",
    "stocks"
   ]
  },
  {
   "cell_type": "code",
   "execution_count": 14,
   "metadata": {},
   "outputs": [
    {
     "data": {
      "text/plain": [
       "['GME', 'AMZN', 'GOOG']"
      ]
     },
     "execution_count": 14,
     "metadata": {},
     "output_type": "execute_result"
    }
   ],
   "source": [
    "stocks.remove('IBM')\n",
    "stocks"
   ]
  },
  {
   "cell_type": "code",
   "execution_count": 15,
   "metadata": {},
   "outputs": [
    {
     "data": {
      "text/plain": [
       "['AMZN', 'GME', 'GOOG']"
      ]
     },
     "execution_count": 15,
     "metadata": {},
     "output_type": "execute_result"
    }
   ],
   "source": [
    "stocks.sort()\n",
    "stocks"
   ]
  },
  {
   "cell_type": "code",
   "execution_count": 16,
   "metadata": {},
   "outputs": [
    {
     "name": "stdout",
     "output_type": "stream",
     "text": [
      "sorted_stocks:['AMZN', 'GME']\n",
      "(original, unchanged) stocks:['GME', 'AMZN']\n"
     ]
    }
   ],
   "source": [
    "stocks = ['GME', 'AMZN']\n",
    "sorted_stocks = sorted(stocks)\n",
    "print(f'sorted_stocks:{sorted_stocks}')\n",
    "print(f'(original, unchanged) stocks:{stocks}')"
   ]
  },
  {
   "cell_type": "code",
   "execution_count": 17,
   "metadata": {},
   "outputs": [
    {
     "data": {
      "text/plain": [
       "14"
      ]
     },
     "execution_count": 17,
     "metadata": {},
     "output_type": "execute_result"
    }
   ],
   "source": [
    "squares = [1, 4, 9]\n",
    "sum(squares)"
   ]
  },
  {
   "cell_type": "code",
   "execution_count": 18,
   "metadata": {},
   "outputs": [
    {
     "name": "stdout",
     "output_type": "stream",
     "text": [
      "stock_popped_from_index_1=AMZN\n",
      "stocks=['GME']\n"
     ]
    }
   ],
   "source": [
    "stock_popped_from_index_1 = stocks.pop(1)\n",
    "print(f'stock_popped_from_index_1={stock_popped_from_index_1}')\n",
    "print(f'stocks={stocks}')"
   ]
  },
  {
   "cell_type": "code",
   "execution_count": 23,
   "metadata": {},
   "outputs": [
    {
     "name": "stdout",
     "output_type": "stream",
     "text": [
      " value=1, sum_squares=1\n",
      " value=4, sum_squares=5\n",
      " value=9, sum_squares=14\n"
     ]
    }
   ],
   "source": [
    "sum_squares = 0 # here we use a loop to see what sum() does\n",
    "for value in squares: # 1st way: set value to each item in sequence\n",
    "    sum_squares = sum_squares + value\n",
    "    print(f' value={value}, sum_squares={sum_squares}') # indent code 4 spaces"
   ]
  },
  {
   "cell_type": "code",
   "execution_count": 24,
   "metadata": {},
   "outputs": [
    {
     "name": "stdout",
     "output_type": "stream",
     "text": [
      "x=line before loop:\n",
      "  x=a\n",
      "  x=p\n",
      "  x=p\n",
      "  x=l\n",
      "  x=e\n",
      "done\n"
     ]
    }
   ],
   "source": [
    "print(f'x=line before loop:')\n",
    "for x in 'apple':  # 1st way: set x to each value\n",
    "    print(f'  x={x}') # indent code 4 spaces (indent output for debugging!)\n",
    "    \n",
    "print(f'done')"
   ]
  },
  {
   "cell_type": "code",
   "execution_count": 25,
   "metadata": {},
   "outputs": [
    {
     "name": "stdout",
     "output_type": "stream",
     "text": [
      "  i=0, squares[0]=1, sum_squares=1\n",
      "  i=1, squares[1]=4, sum_squares=5\n",
      "  i=2, squares[2]=9, sum_squares=14\n"
     ]
    }
   ],
   "source": [
    "n = len(squares)\n",
    "sum_squares = 0\n",
    "for i in range(n): # 2nd way: set i to each index\n",
    "    sum_squares = sum_squares + squares[i]\n",
    "    print(f'  i={i}, squares[{i}]={squares[i]}, sum_squares={sum_squares}')"
   ]
  },
  {
   "cell_type": "code",
   "execution_count": 26,
   "metadata": {},
   "outputs": [
    {
     "name": "stdout",
     "output_type": "stream",
     "text": [
      "  squares[0]=1, product=1\n",
      "  squares[1]=4, product=4\n",
      "  squares[2]=9, product=36\n"
     ]
    }
   ],
   "source": [
    "product = 1 # sums start at 0, products at 1\n",
    "n = len(squares)\n",
    "for i in range(n): # 2nd way: set i to each index; range(n) is 0, ..., n-1\n",
    "    product = product * squares[i]\n",
    "    print(f'  squares[{i}]={squares[i]}, product={product}')"
   ]
  },
  {
   "cell_type": "code",
   "execution_count": 27,
   "metadata": {},
   "outputs": [
    {
     "name": "stdout",
     "output_type": "stream",
     "text": [
      "stock=GME, lower_stocks=['gme']\n",
      "stock=AMZN, lower_stocks=['gme', 'amzn']\n",
      "['gme', 'amzn']\n"
     ]
    }
   ],
   "source": [
    "stocks = ['GME', 'AMZN']\n",
    "# lower-case stock names:\n",
    "lower_stocks = []\n",
    "for stock in stocks:\n",
    "    lower_stocks.append(stock.lower())\n",
    "    print(f'stock={stock}, lower_stocks={lower_stocks}')\n",
    "\n",
    "print(lower_stocks)"
   ]
  },
  {
   "cell_type": "code",
   "execution_count": 28,
   "metadata": {},
   "outputs": [
    {
     "name": "stdout",
     "output_type": "stream",
     "text": [
      "  i=0, price[0]=10, n_shares[0]=1, portfolio=10\n",
      "  i=1, price[1]=15, n_shares[1]=2, portfolio=40\n",
      "  i=2, price[2]=12, n_shares[2]=5, portfolio=100\n",
      "portfolio=100\n"
     ]
    }
   ],
   "source": [
    "# find portfolio = sum_i price_i * #shares_i:\n",
    "price = (10, 15, 12)\n",
    "n_shares = (1, 2, 5)\n",
    "portfolio = 0\n",
    "for i in range(len(price)):\n",
    "    portfolio += price[i] * n_shares[i] # x += y means \"x = x + y\"\n",
    "    print(f'  i={i}, price[{i}]={price[i]}, n_shares[{i}]={n_shares[i]}, portfolio={portfolio}')\n",
    "\n",
    "print(f'portfolio={portfolio}')"
   ]
  },
  {
   "cell_type": "code",
   "execution_count": 30,
   "metadata": {},
   "outputs": [
    {
     "name": "stdout",
     "output_type": "stream",
     "text": [
      " value=1, sum_squares=1\n",
      " value=4, sum_squares=5\n",
      " value=9, sum_squares=14\n",
      " squares[0]=1, product=1\n",
      " squares[1]=4, product=4\n",
      " squares[2]=9, product=36\n"
     ]
    }
   ],
   "source": [
    "sum_squares = 0 # here we use a loop to see what sum() does; run at pythontutor.com \n",
    "for value in squares: # 1st way: set value to each item in sequence \n",
    "    sum_squares = sum_squares + value \n",
    "    print(f' value={value}, sum_squares={sum_squares}') # indent code 4 spaces \n",
    "product = 1 # sums start at 0, products at 1 \n",
    "n = len(squares) \n",
    "for i in range(n): # 2nd way: set i to each index; range(n) is 0, ..., n-1 \n",
    "    product = product * squares[i] \n",
    "    print(f' squares[{i}]={squares[i]}, product={product}')"
   ]
  },
  {
   "cell_type": "code",
   "execution_count": null,
   "metadata": {},
   "outputs": [],
   "source": []
  }
 ],
 "metadata": {
  "kernelspec": {
   "display_name": "Python 3 (ipykernel)",
   "language": "python",
   "name": "python3"
  },
  "language_info": {
   "codemirror_mode": {
    "name": "ipython",
    "version": 3
   },
   "file_extension": ".py",
   "mimetype": "text/x-python",
   "name": "python",
   "nbconvert_exporter": "python",
   "pygments_lexer": "ipython3",
   "version": "3.10.9"
  }
 },
 "nbformat": 4,
 "nbformat_minor": 4
}
