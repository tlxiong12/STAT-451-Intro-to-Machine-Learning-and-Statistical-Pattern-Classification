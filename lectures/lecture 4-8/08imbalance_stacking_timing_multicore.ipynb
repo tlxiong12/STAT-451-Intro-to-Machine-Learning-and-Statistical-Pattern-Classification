{
 "cells": [
  {
   "cell_type": "markdown",
   "id": "58de2066",
   "metadata": {},
   "source": [
    "# Imbalance, Stacking, Timing, and Multicore"
   ]
  },
  {
   "cell_type": "code",
   "execution_count": 1,
   "id": "e201e363",
   "metadata": {},
   "outputs": [],
   "source": [
    "import numpy as np\n",
    "import pandas as pd\n",
    "import matplotlib.pyplot as plt\n",
    "\n",
    "from sklearn.datasets import load_digits\n",
    "from sklearn.model_selection import train_test_split\n",
    "\n",
    "from sklearn import svm\n",
    "from sklearn.tree import DecisionTreeClassifier\n",
    "from sklearn.neighbors import KNeighborsClassifier\n",
    "from sklearn.linear_model import LogisticRegression\n",
    "\n",
    "from sklearn.ensemble import StackingClassifier\n",
    "\n",
    "from sklearn.model_selection import GridSearchCV, RandomizedSearchCV\n",
    "\n",
    "from scipy.stats import uniform\n",
    "\n",
    "import time\n",
    "import os"
   ]
  },
  {
   "cell_type": "markdown",
   "id": "2aea0d17",
   "metadata": {},
   "source": [
    "## Imbalance: see weights used by svm.SVC()'s class_weight='balanced'"
   ]
  },
  {
   "cell_type": "code",
   "execution_count": 5,
   "id": "4a0f0030",
   "metadata": {},
   "outputs": [
    {
     "name": "stdout",
     "output_type": "stream",
     "text": [
      "counts=[5 1], C_1=0.6, C_2=3.0\n"
     ]
    }
   ],
   "source": [
    "y = np.array([0, 0, 0, 0, 0, 1]) # 5 zeros, 1 one\n",
    "N = y.shape # 6\n",
    "counts = np.bincount(y) # array([5, 1])\n",
    "n_classes = counts.shape # 2\n",
    "C_1, C_2 = N / (n_classes * counts) # 0.6, 3\n",
    "print(f'counts={counts}, C_1={C_1}, C_2={C_2}')"
   ]
  },
  {
   "cell_type": "markdown",
   "id": "2eaa01d7",
   "metadata": {},
   "source": [
    "## Imbalance: oversampling, undersampling"
   ]
  },
  {
   "cell_type": "code",
   "execution_count": 8,
   "id": "4a000f30",
   "metadata": {},
   "outputs": [
    {
     "name": "stdout",
     "output_type": "stream",
     "text": [
      "Oversampling: X_resampled=[[1]\n",
      " [2]\n",
      " [3]\n",
      " [4]\n",
      " [5]\n",
      " [6]\n",
      " [5]\n",
      " [6]],\n",
      "y_resampled=[0 0 0 0 1 1 1 1]\n",
      "Undersampling: X_resampled=[[3]\n",
      " [2]\n",
      " [5]\n",
      " [6]],\n",
      "y_resampled=[0 0 1 1]\n"
     ]
    }
   ],
   "source": [
    "# Do 'New > Terminal' and then run 'conda install -c conda-forge imbalanced-learn' to install package.\n",
    "from imblearn.over_sampling import RandomOverSampler\n",
    "from imblearn.under_sampling import RandomUnderSampler\n",
    "\n",
    "X = np.array([1, 2, 3, 4, 5, 6]).reshape(-1, 1)\n",
    "y = np.array([0, 0, 0, 0, 1, 1])\n",
    "rs = RandomOverSampler()\n",
    "X_resampled, y_resampled = rs.fit_resample(X, y)\n",
    "print(f'Oversampling: X_resampled={X_resampled},\\ny_resampled={y_resampled}')\n",
    "rs = RandomUnderSampler()\n",
    "X_resampled, y_resampled = rs.fit_resample(X, y)\n",
    "print(f'Undersampling: X_resampled={X_resampled},\\ny_resampled={y_resampled}')"
   ]
  },
  {
   "cell_type": "markdown",
   "id": "2eaa0d71",
   "metadata": {},
   "source": [
    "## Stacking"
   ]
  },
  {
   "cell_type": "code",
   "execution_count": 11,
   "id": "4a00f003",
   "metadata": {},
   "outputs": [],
   "source": [
    "digits = load_digits()\n",
    "X = digits.data\n",
    "y = digits.target\n",
    "X_train, X_test, y_train, y_test = train_test_split(X, y, stratify=y, random_state=0)"
   ]
  },
  {
   "cell_type": "markdown",
   "id": "769dfc46",
   "metadata": {},
   "source": [
    "### First check classifiers individually."
   ]
  },
  {
   "cell_type": "code",
   "execution_count": 13,
   "id": "f08dabdf",
   "metadata": {},
   "outputs": [
    {
     "data": {
      "text/plain": [
       "0.98"
      ]
     },
     "execution_count": 13,
     "metadata": {},
     "output_type": "execute_result"
    }
   ],
   "source": [
    "clf = svm.SVC(kernel=\"linear\", C=1000)\n",
    "clf.fit(X_train, y_train)\n",
    "clf.score(X_test, y_test)"
   ]
  },
  {
   "cell_type": "code",
   "execution_count": 15,
   "id": "398ab1fb",
   "metadata": {},
   "outputs": [
    {
     "data": {
      "text/plain": [
       "0.8066666666666666"
      ]
     },
     "execution_count": 15,
     "metadata": {},
     "output_type": "execute_result"
    }
   ],
   "source": [
    "clf = DecisionTreeClassifier(criterion='entropy', max_depth=5, random_state=0)\n",
    "clf.fit(X_train, y_train)\n",
    "clf.score(X_test, y_test)"
   ]
  },
  {
   "cell_type": "code",
   "execution_count": 17,
   "id": "8ff06637",
   "metadata": {},
   "outputs": [
    {
     "data": {
      "text/plain": [
       "0.9822222222222222"
      ]
     },
     "execution_count": 17,
     "metadata": {},
     "output_type": "execute_result"
    }
   ],
   "source": [
    "clf = KNeighborsClassifier(n_neighbors=1, metric='euclidean')\n",
    "clf.fit(X_train, y_train)\n",
    "clf.score(X_test, y_test)"
   ]
  },
  {
   "cell_type": "code",
   "execution_count": 18,
   "id": "cc9d71ba",
   "metadata": {},
   "outputs": [
    {
     "data": {
      "text/plain": [
       "0.96"
      ]
     },
     "execution_count": 18,
     "metadata": {},
     "output_type": "execute_result"
    }
   ],
   "source": [
    "clf = LogisticRegression(max_iter=3000)\n",
    "clf.fit(X_train, y_train)\n",
    "clf.score(X_test, y_test)"
   ]
  },
  {
   "cell_type": "markdown",
   "id": "3fbf5c8a",
   "metadata": {},
   "source": [
    "### Try stacking the first three, using the fourth as the final estimator."
   ]
  },
  {
   "cell_type": "code",
   "execution_count": 21,
   "id": "f4d94b29",
   "metadata": {},
   "outputs": [
    {
     "data": {
      "text/plain": [
       "0.9888888888888889"
      ]
     },
     "execution_count": 21,
     "metadata": {},
     "output_type": "execute_result"
    }
   ],
   "source": [
    "estimators = [\n",
    "    ('SVM', svm.SVC(kernel=\"linear\", C=1000)),\n",
    "    ('kNN', KNeighborsClassifier(n_neighbors=1, metric='euclidean')),\n",
    "    ('DecisionTree', DecisionTreeClassifier(criterion='entropy', max_depth=None, random_state=0))\n",
    "]\n",
    "clf = StackingClassifier(\n",
    "    estimators=estimators, final_estimator=LogisticRegression(max_iter=3000)\n",
    ")\n",
    "\n",
    "clf.fit(X_train, y_train)\n",
    "clf.score(X_test, y_test)"
   ]
  },
  {
   "cell_type": "markdown",
   "id": "91bd5e53",
   "metadata": {},
   "source": [
    "### See if we can understand what the StackingClassifier() did."
   ]
  },
  {
   "cell_type": "code",
   "execution_count": 23,
   "id": "cd89de2f",
   "metadata": {},
   "outputs": [
    {
     "name": "stdout",
     "output_type": "stream",
     "text": [
      "clf.estimators_=[SVC(C=1000, kernel='linear'), KNeighborsClassifier(metric='euclidean', n_neighbors=1), DecisionTreeClassifier(criterion='entropy', random_state=0)]\n",
      "clf.final_estimator_=LogisticRegression(max_iter=3000)\n",
      "clf.stack_method_=['decision_function', 'predict_proba', 'predict_proba']\n"
     ]
    }
   ],
   "source": [
    "# inspect components of clf:\n",
    "print(f'clf.estimators_={clf.estimators_}')\n",
    "print(f'clf.final_estimator_={clf.final_estimator_}')\n",
    "print(f'clf.stack_method_={clf.stack_method_}')"
   ]
  },
  {
   "cell_type": "code",
   "execution_count": 25,
   "id": "e4da7732",
   "metadata": {},
   "outputs": [
    {
     "name": "stdout",
     "output_type": "stream",
     "text": [
      "y1_hat(450, 10)=[[ 6.289  1.732  9.307 ...  3.821  4.77   6.239]\n",
      " [ 9.312  1.697  2.735 ...  0.703  6.308  5.17 ]\n",
      " [ 3.787  5.252 -0.31  ...  7.276  6.306  3.767]\n",
      " ...\n",
      " [-0.316  9.314  7.279 ...  4.764  7.305  2.711]\n",
      " [ 2.785  9.288  0.733 ...  1.715  7.311  4.926]\n",
      " [ 1.729  8.295 -0.319 ...  6.264  5.283  9.32 ]]\n",
      "y2_hat(450, 10)=[[0. 0. 1. ... 0. 0. 0.]\n",
      " [1. 0. 0. ... 0. 0. 0.]\n",
      " [0. 0. 0. ... 0. 0. 0.]\n",
      " ...\n",
      " [0. 1. 0. ... 0. 0. 0.]\n",
      " [0. 1. 0. ... 0. 0. 0.]\n",
      " [0. 0. 0. ... 0. 0. 1.]]\n",
      "y3_hat(450, 10)=[[0. 0. 1. ... 0. 0. 0.]\n",
      " [1. 0. 0. ... 0. 0. 0.]\n",
      " [0. 0. 0. ... 0. 0. 0.]\n",
      " ...\n",
      " [0. 0. 1. ... 0. 0. 0.]\n",
      " [0. 0. 1. ... 0. 0. 0.]\n",
      " [0. 0. 0. ... 0. 0. 1.]]\n",
      "x_hat(450, 30)=[[ 6.289  1.732  9.307 ...  0.     0.     0.   ]\n",
      " [ 9.312  1.697  2.735 ...  0.     0.     0.   ]\n",
      " [ 3.787  5.252 -0.31  ...  0.     0.     0.   ]\n",
      " ...\n",
      " [-0.316  9.314  7.279 ...  0.     0.     0.   ]\n",
      " [ 2.785  9.288  0.733 ...  0.     0.     0.   ]\n",
      " [ 1.729  8.295 -0.319 ...  0.     0.     1.   ]]\n",
      "y_hat(450,)=[2 0 4 9 4 1 2 4 6 7 9 1 8 0 9 8 2 9 7 7 0 2 6 7 2 1 5 7 2 4 3 4 3 6 1 2 4\n",
      " 8 4 6 2 8 1 8 7 6 5 9 1 0 3 6 8 0 4 5 0 2 5 5 7 8 7 3 2 2 9 3 8 5 3 7 6 6\n",
      " 3 7 3 7 0 9 6 7 1 6 6 8 2 7 4 3 3 6 3 9 3 4 9 6 6 4 4 0 1 2 9 9 8 3 6 8 1\n",
      " 5 4 9 2 0 7 9 0 7 1 9 8 2 8 5 7 4 8 0 0 5 0 5 3 7 6 4 7 6 2 0 7 9 3 1 4 6\n",
      " 8 8 1 6 3 2 3 4 0 4 9 6 0 2 7 2 0 1 4 4 1 0 4 4 1 0 7 2 8 2 5 7 6 3 2 3 8\n",
      " 6 7 4 3 5 6 5 1 3 4 1 1 6 3 7 8 5 5 3 8 5 3 1 2 3 5 0 7 3 5 0 8 8 6 5 4 4\n",
      " 9 9 4 4 7 4 1 3 1 5 1 0 9 6 5 9 0 4 5 0 1 7 5 0 0 1 4 5 8 1 9 6 8 2 2 8 5\n",
      " 3 3 9 3 7 7 3 5 0 2 4 2 9 1 6 7 1 2 7 2 9 7 5 4 6 2 2 3 3 6 0 9 9 8 2 7 1\n",
      " 5 6 1 7 2 5 3 8 0 8 1 2 0 6 2 1 7 7 1 9 8 6 0 2 4 2 7 7 7 1 5 3 4 3 8 9 2\n",
      " 1 3 1 4 0 3 8 1 0 0 8 4 6 0 0 4 2 0 3 0 9 5 8 1 9 6 9 7 3 9 6 6 6 3 0 5 2\n",
      " 6 5 8 6 1 6 9 6 7 8 4 0 7 3 1 1 9 8 5 0 5 0 1 4 5 4 8 4 6 5 7 6 5 4 9 5 2\n",
      " 1 5 5 8 3 0 2 5 9 8 5 4 2 5 3 8 0 8 5 4 0 9 1 7 7 5 3 3 7 3 6 8 9 5 2 9 3\n",
      " 1 9 9 1 1 9]\n",
      "y_hat_from_clf(450,)=[2 0 4 9 4 1 2 4 6 7 9 1 8 0 9 8 2 9 7 7 0 2 6 7 2 1 5 7 2 4 3 4 3 6 1 2 4\n",
      " 8 4 6 2 8 1 8 7 6 5 9 1 0 3 6 8 0 4 5 0 2 5 5 7 8 7 3 2 2 9 3 8 5 3 7 6 6\n",
      " 3 7 3 7 0 9 6 7 1 6 6 8 2 7 4 3 3 6 3 9 3 4 9 6 6 4 4 0 1 2 9 9 8 3 6 8 1\n",
      " 5 4 9 2 0 7 9 0 7 1 9 8 2 8 5 7 4 8 0 0 5 0 5 3 7 6 4 7 6 2 0 7 9 3 1 4 6\n",
      " 8 8 1 6 3 2 3 4 0 4 9 6 0 2 7 2 0 1 4 4 1 0 4 4 1 0 7 2 8 2 5 7 6 3 2 3 8\n",
      " 6 7 4 3 5 6 5 1 3 4 1 1 6 3 7 8 5 5 3 8 5 3 1 2 3 5 0 7 3 5 0 8 8 6 5 4 4\n",
      " 9 9 4 4 7 4 1 3 1 5 1 0 9 6 5 9 0 4 5 0 1 7 5 0 0 1 4 5 8 1 9 6 8 2 2 8 5\n",
      " 3 3 9 3 7 7 3 5 0 2 4 2 9 1 6 7 1 2 7 2 9 7 5 4 6 2 2 3 3 6 0 9 9 8 2 7 1\n",
      " 5 6 1 7 2 5 3 8 0 8 1 2 0 6 2 1 7 7 1 9 8 6 0 2 4 2 7 7 7 1 5 3 4 3 8 9 2\n",
      " 1 3 1 4 0 3 8 1 0 0 8 4 6 0 0 4 2 0 3 0 9 5 8 1 9 6 9 7 3 9 6 6 6 3 0 5 2\n",
      " 6 5 8 6 1 6 9 6 7 8 4 0 7 3 1 1 9 8 5 0 5 0 1 4 5 4 8 4 6 5 7 6 5 4 9 5 2\n",
      " 1 5 5 8 3 0 2 5 9 8 5 4 2 5 3 8 0 8 5 4 0 9 1 7 7 5 3 3 7 3 6 8 9 5 2 9 3\n",
      " 1 9 9 1 1 9]\n"
     ]
    }
   ],
   "source": [
    "# reproduce the StackingClassifier()'s output without using StackingClassifier(),\n",
    "# directly from the stacking description in the lecture notes:\n",
    "np.set_printoptions(precision=3)\n",
    "\n",
    "y1_hat = clf.estimators_[0].decision_function(X_test)\n",
    "print(f'y1_hat{y1_hat.shape}={y1_hat}')\n",
    "\n",
    "y2_hat = clf.estimators_[1].predict_proba(X_test)\n",
    "print(f'y2_hat{y2_hat.shape}={y2_hat}')\n",
    "\n",
    "y3_hat = clf.estimators_[2].predict_proba(X_test)\n",
    "print(f'y3_hat{y3_hat.shape}={y3_hat}')\n",
    "\n",
    "x_hat = np.column_stack((y1_hat, y2_hat, y3_hat))\n",
    "print(f'x_hat{x_hat.shape}={x_hat}')\n",
    "y_hat = clf.final_estimator_.predict(x_hat)\n",
    "print(f'y_hat{y_hat.shape}={y_hat}')\n",
    "\n",
    "y_hat_from_clf = clf.predict(X_test)\n",
    "print(f'y_hat_from_clf{y_hat_from_clf.shape}={y_hat_from_clf}')\n",
    "\n",
    "assert np.all(y_hat == y_hat_from_clf)"
   ]
  },
  {
   "cell_type": "markdown",
   "id": "921ba807",
   "metadata": {},
   "source": [
    "## Algorithm Efficiency and Timing Code\n",
    "If you do not know the run-time of your algorithm, you can time it for several values\n",
    "to get some insight as to how the time relates to the input size.\n",
    "\n",
    "e.g. Here we time sorting arrays of random numbers for each of several sample sizes\n",
    "and the make a plot to see the relationship between run time and sample size."
   ]
  },
  {
   "cell_type": "code",
   "execution_count": 27,
   "id": "6411d11c",
   "metadata": {},
   "outputs": [
    {
     "name": "stdout",
     "output_type": "stream",
     "text": [
      "i=0, N=1000000, times[i]=0.22222638130187988\n",
      "i=1, N=2000000, times[i]=0.46044015884399414\n",
      "i=2, N=3000000, times[i]=0.7324714660644531\n",
      "i=3, N=4000000, times[i]=0.9209256172180176\n",
      "i=4, N=5000000, times[i]=1.201984167098999\n",
      "i=5, N=6000000, times[i]=1.4268043041229248\n",
      "i=6, N=7000000, times[i]=1.6936249732971191\n",
      "i=7, N=8000000, times[i]=2.012718915939331\n",
      "i=8, N=9000000, times[i]=2.1742234230041504\n",
      "i=9, N=10000000, times[i]=2.477682113647461\n"
     ]
    }
   ],
   "source": [
    "sample_sizes = 1000000 * (1 + np.arange(10))\n",
    "n_sizes = len(sample_sizes)\n",
    "times = np.zeros(shape=n_sizes)\n",
    "rng = np.random.default_rng(seed=0)\n",
    "for i in np.arange(n_sizes):\n",
    "    N = sample_sizes[i]\n",
    "    a = np.random.sample(size=N) # random floats from [0.0, 1.0)\n",
    "    start = time.time()\n",
    "    discard = np.sort(a) # how fast is this algorithm?\"\n",
    "    end = time.time()\n",
    "    times[i] = end - start\n",
    "    print(f'i={i}, N={N}, times[i]={times[i]}')"
   ]
  },
  {
   "cell_type": "code",
   "execution_count": 28,
   "id": "6f08d0fd",
   "metadata": {},
   "outputs": [
    {
     "data": {
      "text/plain": [
       "Text(0, 0.5, 'time (seconds)')"
      ]
     },
     "execution_count": 28,
     "metadata": {},
     "output_type": "execute_result"
    },
    {
     "data": {
      "image/png": "[encoded data removed]",
      "text/plain": [
       "<Figure size 640x480 with 1 Axes>"
      ]
     },
     "metadata": {},
     "output_type": "display_data"
    }
   ],
   "source": [
    "plt.plot(sample_sizes, times, '.')\n",
    "plt.title('Run time vs. array size')\n",
    "plt.xlabel('array size N')\n",
    "plt.ylabel('time (seconds)')"
   ]
  },
  {
   "cell_type": "markdown",
   "id": "44149536",
   "metadata": {},
   "source": [
    "It would be easy to make a regression model, or just estimate the model by eye,\n",
    "and then predict the run time for a particular N. (I am recommending extrapolating\n",
    "here as better than nothing, even though extrapolation is typically risky.)"
   ]
  },
  {
   "cell_type": "markdown",
   "id": "44149563",
   "metadata": {},
   "source": [
    "### Multicore computing"
   ]
  },
  {
   "cell_type": "code",
   "execution_count": null,
   "id": "6f08d0df",
   "metadata": {},
   "outputs": [],
   "source": [
    "n_CPU = os.cpu_count()\n",
    "print(f'n_CPU={n_CPU}.')\n",
    "\n",
    "df = pd.read_csv('http://www.stat.wisc.edu/~jgillett/451/data/circles.csv')\n",
    "X = df[['x0', 'x1']]\n",
    "y = df['y']\n",
    "\n",
    "rng = np.random.default_rng(seed=0)\n",
    "distributions = {\n",
    "    'kernel': ('linear', 'rbf'),\n",
    "    'C': uniform(loc=0, scale=1000) # uniform[loc, loc + scale]\n",
    "}\n",
    "\n",
    "times = np.zeros(shape=n_CPU+1) # ignore position [0]\n",
    "numbers_of_CPUs = 1 + np.arange(start=0, stop=n_CPU)\n",
    "for n_jobs in numbers_of_CPUs:\n",
    "  clf = RandomizedSearchCV(svm.SVC(), param_distributions=distributions, n_iter=100, n_jobs=n_jobs)\n",
    "  start = time.time()\n",
    "  clf.fit(X, y)\n",
    "  end = time.time()\n",
    "  print(f'clf.best_score_={clf.best_score_:.3}, ' + f'clf.best_params_={clf.best_params_}')\n",
    "  times[n_jobs] = end - start\n",
    "  print(f'n_jobs={n_jobs}, clf.fit() took {times[n_jobs]:.3} seconds.')\n",
    "\n",
    "plt.plot(numbers_of_CPUs, times[1:], 'or')\n",
    "plt.title('RandomizedSearchCV() time vs. n_jobs')\n",
    "plt.xticks(ticks=np.append(0, numbers_of_CPUs))\n",
    "plt.xlabel('n_jobs')\n",
    "plt.ylabel('time (seconds)')\n",
    "_ = plt.ylim(0, 1.1*np.max(times))\n"
   ]
  }
 ],
 "metadata": {
  "kernelspec": {
   "display_name": "Python [conda env:base] *",
   "language": "python",
   "name": "conda-base-py"
  },
  "language_info": {
   "codemirror_mode": {
    "name": "ipython",
    "version": 3
   },
   "file_extension": ".py",
   "mimetype": "text/x-python",
   "name": "python",
   "nbconvert_exporter": "python",
   "pygments_lexer": "ipython3",
   "version": "3.12.7"
  }
 },
 "nbformat": 4,
 "nbformat_minor": 5
}
