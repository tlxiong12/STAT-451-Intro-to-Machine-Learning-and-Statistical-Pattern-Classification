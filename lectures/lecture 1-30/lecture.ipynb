{
 "cells": [
  {
   "cell_type": "code",
   "execution_count": 1,
   "id": "0aeee938",
   "metadata": {},
   "outputs": [],
   "source": [
    "import numpy as np"
   ]
  },
  {
   "cell_type": "code",
   "execution_count": 8,
   "id": "dacf0452",
   "metadata": {},
   "outputs": [
    {
     "data": {
      "text/plain": [
       "matrix([[1. ],\n",
       "        [0.5]])"
      ]
     },
     "execution_count": 8,
     "metadata": {},
     "output_type": "execute_result"
    }
   ],
   "source": [
    "X = np.matrix('1 1; 1 2; 1 3')\n",
    "\n",
    "Y = np.matrix('1;3;2')\n",
    "\n",
    "Xt = X.transpose() #t stands for transpose\n",
    "\n",
    "XtX = Xt*X #multiply X and Xt\n",
    "\n",
    "XtXinv = np.linalg.inv(XtX) #inv stands for inverse of the matrix\n",
    "\n",
    "w = (XtXinv)*Xt*Y\n",
    "\n",
    "w\n",
    "\n",
    "#b = 1, w = 1/2\n",
    "#yhat = 1/2x + 1\n"
   ]
  },
  {
   "cell_type": "code",
   "execution_count": 4,
   "id": "501a6957",
   "metadata": {},
   "outputs": [
    {
     "data": {
      "text/plain": [
       "matrix([[ 4. ],\n",
       "        [-0.5]])"
      ]
     },
     "execution_count": 4,
     "metadata": {},
     "output_type": "execute_result"
    }
   ],
   "source": [
    "# (0, 5), (2, 1), (4, 3)\n",
    "X = np.matrix('1 0; 1 2; 1 4')\n",
    "Y = np.matrix('5;1;3')\n",
    "\n",
    "Xt = X.transpose()\n",
    "\n",
    "XtX = Xt*X\n",
    "\n",
    "XtXinv = np.linalg.inv(XtX)\n",
    "\n",
    "w = (XtXinv)*Xt*Y\n",
    "\n",
    "w"
   ]
  },
  {
   "cell_type": "code",
   "execution_count": null,
   "id": "db87d3ba",
   "metadata": {},
   "outputs": [],
   "source": []
  }
 ],
 "metadata": {
  "kernelspec": {
   "display_name": "Python 3 (ipykernel)",
   "language": "python",
   "name": "python3"
  },
  "language_info": {
   "codemirror_mode": {
    "name": "ipython",
    "version": 3
   },
   "file_extension": ".py",
   "mimetype": "text/x-python",
   "name": "python",
   "nbconvert_exporter": "python",
   "pygments_lexer": "ipython3",
   "version": "3.10.9"
  }
 },
 "nbformat": 4,
 "nbformat_minor": 5
}
