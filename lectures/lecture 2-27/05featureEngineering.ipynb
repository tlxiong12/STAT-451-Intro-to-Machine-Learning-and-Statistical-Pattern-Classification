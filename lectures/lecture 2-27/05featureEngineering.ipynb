{
 "cells": [
  {
   "cell_type": "code",
   "execution_count": 1,
   "id": "a238f78d",
   "metadata": {},
   "outputs": [],
   "source": [
    "import pandas as pd\n",
    "import numpy as np\n",
    "import matplotlib.pyplot as plt\n",
    "from sklearn.preprocessing import MinMaxScaler\n",
    "from sklearn.preprocessing import StandardScaler\n",
    "from sklearn.impute import SimpleImputer\n",
    "from sklearn import linear_model\n",
    "from sklearn.tree import DecisionTreeRegressor\n",
    "from sklearn.feature_selection import SelectKBest, f_regression\n",
    "from sklearn.inspection import permutation_importance\n"
   ]
  },
  {
   "cell_type": "markdown",
   "id": "b7441090",
   "metadata": {},
   "source": [
    "### One-hot encoding"
   ]
  },
  {
   "cell_type": "code",
   "execution_count": 3,
   "id": "7885183e",
   "metadata": {},
   "outputs": [
    {
     "data": {
      "text/html": [
       "<div>\n",
       "<style scoped>\n",
       "    .dataframe tbody tr th:only-of-type {\n",
       "        vertical-align: middle;\n",
       "    }\n",
       "\n",
       "    .dataframe tbody tr th {\n",
       "        vertical-align: top;\n",
       "    }\n",
       "\n",
       "    .dataframe thead th {\n",
       "        text-align: right;\n",
       "    }\n",
       "</style>\n",
       "<table border=\"1\" class=\"dataframe\">\n",
       "  <thead>\n",
       "    <tr style=\"text-align: right;\">\n",
       "      <th></th>\n",
       "      <th>color</th>\n",
       "    </tr>\n",
       "  </thead>\n",
       "  <tbody>\n",
       "    <tr>\n",
       "      <th>0</th>\n",
       "      <td>green</td>\n",
       "    </tr>\n",
       "    <tr>\n",
       "      <th>1</th>\n",
       "      <td>yellow</td>\n",
       "    </tr>\n",
       "    <tr>\n",
       "      <th>2</th>\n",
       "      <td>red</td>\n",
       "    </tr>\n",
       "    <tr>\n",
       "      <th>3</th>\n",
       "      <td>green</td>\n",
       "    </tr>\n",
       "  </tbody>\n",
       "</table>\n",
       "</div>"
      ],
      "text/plain": [
       "    color\n",
       "0   green\n",
       "1  yellow\n",
       "2     red\n",
       "3   green"
      ]
     },
     "execution_count": 3,
     "metadata": {},
     "output_type": "execute_result"
    }
   ],
   "source": [
    "df = pd.DataFrame({'color': ['green', 'yellow', 'red', 'green']})\n",
    "df"
   ]
  },
  {
   "cell_type": "code",
   "execution_count": 4,
   "id": "3ee915e1",
   "metadata": {},
   "outputs": [
    {
     "data": {
      "text/html": [
       "<div>\n",
       "<style scoped>\n",
       "    .dataframe tbody tr th:only-of-type {\n",
       "        vertical-align: middle;\n",
       "    }\n",
       "\n",
       "    .dataframe tbody tr th {\n",
       "        vertical-align: top;\n",
       "    }\n",
       "\n",
       "    .dataframe thead th {\n",
       "        text-align: right;\n",
       "    }\n",
       "</style>\n",
       "<table border=\"1\" class=\"dataframe\">\n",
       "  <thead>\n",
       "    <tr style=\"text-align: right;\">\n",
       "      <th></th>\n",
       "      <th>green</th>\n",
       "      <th>red</th>\n",
       "      <th>yellow</th>\n",
       "    </tr>\n",
       "  </thead>\n",
       "  <tbody>\n",
       "    <tr>\n",
       "      <th>0</th>\n",
       "      <td>True</td>\n",
       "      <td>False</td>\n",
       "      <td>False</td>\n",
       "    </tr>\n",
       "    <tr>\n",
       "      <th>1</th>\n",
       "      <td>False</td>\n",
       "      <td>False</td>\n",
       "      <td>True</td>\n",
       "    </tr>\n",
       "    <tr>\n",
       "      <th>2</th>\n",
       "      <td>False</td>\n",
       "      <td>True</td>\n",
       "      <td>False</td>\n",
       "    </tr>\n",
       "    <tr>\n",
       "      <th>3</th>\n",
       "      <td>True</td>\n",
       "      <td>False</td>\n",
       "      <td>False</td>\n",
       "    </tr>\n",
       "  </tbody>\n",
       "</table>\n",
       "</div>"
      ],
      "text/plain": [
       "   green    red  yellow\n",
       "0   True  False   False\n",
       "1  False  False    True\n",
       "2  False   True   False\n",
       "3   True  False   False"
      ]
     },
     "execution_count": 4,
     "metadata": {},
     "output_type": "execute_result"
    }
   ],
   "source": [
    "pd.get_dummies(df.color, drop_first=False) # also try drop_first=True"
   ]
  },
  {
   "cell_type": "code",
   "execution_count": 5,
   "id": "2ff11c79",
   "metadata": {},
   "outputs": [
    {
     "data": {
      "text/html": [
       "<div>\n",
       "<style scoped>\n",
       "    .dataframe tbody tr th:only-of-type {\n",
       "        vertical-align: middle;\n",
       "    }\n",
       "\n",
       "    .dataframe tbody tr th {\n",
       "        vertical-align: top;\n",
       "    }\n",
       "\n",
       "    .dataframe thead th {\n",
       "        text-align: right;\n",
       "    }\n",
       "</style>\n",
       "<table border=\"1\" class=\"dataframe\">\n",
       "  <thead>\n",
       "    <tr style=\"text-align: right;\">\n",
       "      <th></th>\n",
       "      <th>color</th>\n",
       "      <th>green</th>\n",
       "      <th>red</th>\n",
       "      <th>yellow</th>\n",
       "    </tr>\n",
       "  </thead>\n",
       "  <tbody>\n",
       "    <tr>\n",
       "      <th>0</th>\n",
       "      <td>green</td>\n",
       "      <td>True</td>\n",
       "      <td>False</td>\n",
       "      <td>False</td>\n",
       "    </tr>\n",
       "    <tr>\n",
       "      <th>1</th>\n",
       "      <td>yellow</td>\n",
       "      <td>False</td>\n",
       "      <td>False</td>\n",
       "      <td>True</td>\n",
       "    </tr>\n",
       "    <tr>\n",
       "      <th>2</th>\n",
       "      <td>red</td>\n",
       "      <td>False</td>\n",
       "      <td>True</td>\n",
       "      <td>False</td>\n",
       "    </tr>\n",
       "    <tr>\n",
       "      <th>3</th>\n",
       "      <td>green</td>\n",
       "      <td>True</td>\n",
       "      <td>False</td>\n",
       "      <td>False</td>\n",
       "    </tr>\n",
       "  </tbody>\n",
       "</table>\n",
       "</div>"
      ],
      "text/plain": [
       "    color  green    red  yellow\n",
       "0   green   True  False   False\n",
       "1  yellow  False  False    True\n",
       "2     red  False   True   False\n",
       "3   green   True  False   False"
      ]
     },
     "execution_count": 5,
     "metadata": {},
     "output_type": "execute_result"
    }
   ],
   "source": [
    "df.join(pd.get_dummies(df.color, drop_first=False))"
   ]
  },
  {
   "cell_type": "markdown",
   "id": "1ce5f102",
   "metadata": {},
   "source": [
    "### Binning"
   ]
  },
  {
   "cell_type": "code",
   "execution_count": 10,
   "id": "51148fd7",
   "metadata": {},
   "outputs": [
    {
     "data": {
      "text/html": [
       "<div>\n",
       "<style scoped>\n",
       "    .dataframe tbody tr th:only-of-type {\n",
       "        vertical-align: middle;\n",
       "    }\n",
       "\n",
       "    .dataframe tbody tr th {\n",
       "        vertical-align: top;\n",
       "    }\n",
       "\n",
       "    .dataframe thead th {\n",
       "        text-align: right;\n",
       "    }\n",
       "</style>\n",
       "<table border=\"1\" class=\"dataframe\">\n",
       "  <thead>\n",
       "    <tr style=\"text-align: right;\">\n",
       "      <th></th>\n",
       "      <th>age</th>\n",
       "    </tr>\n",
       "  </thead>\n",
       "  <tbody>\n",
       "    <tr>\n",
       "      <th>0</th>\n",
       "      <td>0</td>\n",
       "    </tr>\n",
       "    <tr>\n",
       "      <th>1</th>\n",
       "      <td>4</td>\n",
       "    </tr>\n",
       "    <tr>\n",
       "      <th>2</th>\n",
       "      <td>7</td>\n",
       "    </tr>\n",
       "    <tr>\n",
       "      <th>3</th>\n",
       "      <td>14</td>\n",
       "    </tr>\n",
       "    <tr>\n",
       "      <th>4</th>\n",
       "      <td>18</td>\n",
       "    </tr>\n",
       "    <tr>\n",
       "      <th>5</th>\n",
       "      <td>46</td>\n",
       "    </tr>\n",
       "    <tr>\n",
       "      <th>6</th>\n",
       "      <td>92</td>\n",
       "    </tr>\n",
       "  </tbody>\n",
       "</table>\n",
       "</div>"
      ],
      "text/plain": [
       "   age\n",
       "0    0\n",
       "1    4\n",
       "2    7\n",
       "3   14\n",
       "4   18\n",
       "5   46\n",
       "6   92"
      ]
     },
     "execution_count": 10,
     "metadata": {},
     "output_type": "execute_result"
    }
   ],
   "source": [
    "df = pd.DataFrame({'age': [0, 4, 7, 14, 18, 46, 92]})\n",
    "df"
   ]
  },
  {
   "cell_type": "code",
   "execution_count": 12,
   "id": "61613aef",
   "metadata": {},
   "outputs": [
    {
     "data": {
      "text/plain": [
       "0      baby\n",
       "1     child\n",
       "2     child\n",
       "3     child\n",
       "4     adult\n",
       "5     adult\n",
       "6    senior\n",
       "Name: age, dtype: category\n",
       "Categories (4, object): ['baby' < 'child' < 'adult' < 'senior']"
      ]
     },
     "execution_count": 12,
     "metadata": {},
     "output_type": "execute_result"
    }
   ],
   "source": [
    "pd.cut(df.age, bins=[0, 3, 18, 65, np.inf], right=False, labels=['baby', 'child', 'adult', 'senior'])"
   ]
  },
  {
   "cell_type": "markdown",
   "id": "3d7f55fb",
   "metadata": {},
   "source": [
    "### Rescaling"
   ]
  },
  {
   "cell_type": "markdown",
   "id": "07c80f40",
   "metadata": {},
   "source": [
    "#### Min-max normalization"
   ]
  },
  {
   "cell_type": "code",
   "execution_count": 14,
   "id": "75585b3d",
   "metadata": {},
   "outputs": [
    {
     "data": {
      "text/plain": [
       "array([[  0, 100],\n",
       "       [  1, 101],\n",
       "       [  2, 102],\n",
       "       [  3, 103]])"
      ]
     },
     "execution_count": 14,
     "metadata": {},
     "output_type": "execute_result"
    }
   ],
   "source": [
    "X = np.array([[0, 100], [1, 101], [2, 102], [3, 103]])\n",
    "X"
   ]
  },
  {
   "cell_type": "code",
   "execution_count": 16,
   "id": "ca84abe3",
   "metadata": {},
   "outputs": [
    {
     "data": {
      "text/plain": [
       "array([[0.        , 0.        ],\n",
       "       [0.33333333, 0.33333333],\n",
       "       [0.66666667, 0.66666667],\n",
       "       [1.        , 1.        ]])"
      ]
     },
     "execution_count": 16,
     "metadata": {},
     "output_type": "execute_result"
    }
   ],
   "source": [
    "scaler = MinMaxScaler()\n",
    "X_scaled = scaler.fit_transform(X) # do scaling\n",
    "X_scaled"
   ]
  },
  {
   "cell_type": "code",
   "execution_count": 18,
   "id": "cf8bf70f",
   "metadata": {},
   "outputs": [
    {
     "data": {
      "text/plain": [
       "array([[  0., 100.],\n",
       "       [  1., 101.],\n",
       "       [  2., 102.],\n",
       "       [  3., 103.]])"
      ]
     },
     "execution_count": 18,
     "metadata": {},
     "output_type": "execute_result"
    }
   ],
   "source": [
    "scaler.inverse_transform(X_scaled) # undo scaling"
   ]
  },
  {
   "cell_type": "markdown",
   "id": "27f78cc2",
   "metadata": {},
   "source": [
    "#### Standardization"
   ]
  },
  {
   "cell_type": "code",
   "execution_count": 20,
   "id": "4153bce9",
   "metadata": {},
   "outputs": [
    {
     "data": {
      "text/plain": [
       "array([[-1.34164079, -1.34164079],\n",
       "       [-0.4472136 , -0.4472136 ],\n",
       "       [ 0.4472136 ,  0.4472136 ],\n",
       "       [ 1.34164079,  1.34164079]])"
      ]
     },
     "execution_count": 20,
     "metadata": {},
     "output_type": "execute_result"
    }
   ],
   "source": [
    "scaler = StandardScaler()\n",
    "X_scaled = scaler.fit_transform(X) # do scaling\n",
    "X_scaled"
   ]
  },
  {
   "cell_type": "code",
   "execution_count": 22,
   "id": "787e203b",
   "metadata": {},
   "outputs": [
    {
     "name": "stdout",
     "output_type": "stream",
     "text": [
      "For x=[0 1 2 3], mu=1.5, sigma=1.12, z=[-1.34164079 -0.4472136   0.4472136   1.34164079]\n"
     ]
    }
   ],
   "source": [
    "# check that it is doing what we expect on first column:\n",
    "x = X[:, 0]\n",
    "mu = np.mean(x)\n",
    "sigma = np.std(x, ddof=0) # caution: ddof=1 gives usual sample standard deviation\n",
    "print(f'For x={x}, mu={mu:.3}, sigma={sigma:.3}, z={(x - mu) / sigma}')"
   ]
  },
  {
   "cell_type": "code",
   "execution_count": 24,
   "id": "4d042059",
   "metadata": {},
   "outputs": [
    {
     "data": {
      "text/plain": [
       "array([[  0., 100.],\n",
       "       [  1., 101.],\n",
       "       [  2., 102.],\n",
       "       [  3., 103.]])"
      ]
     },
     "execution_count": 24,
     "metadata": {},
     "output_type": "execute_result"
    }
   ],
   "source": [
    "scaler.inverse_transform(X_scaled) # undo scaling"
   ]
  },
  {
   "cell_type": "markdown",
   "id": "6c2b5e25",
   "metadata": {},
   "source": [
    "### Data imputation"
   ]
  },
  {
   "cell_type": "code",
   "execution_count": 45,
   "id": "eb931e91",
   "metadata": {},
   "outputs": [
    {
     "data": {
      "text/html": [
       "<div>\n",
       "<style scoped>\n",
       "    .dataframe tbody tr th:only-of-type {\n",
       "        vertical-align: middle;\n",
       "    }\n",
       "\n",
       "    .dataframe tbody tr th {\n",
       "        vertical-align: top;\n",
       "    }\n",
       "\n",
       "    .dataframe thead th {\n",
       "        text-align: right;\n",
       "    }\n",
       "</style>\n",
       "<table border=\"1\" class=\"dataframe\">\n",
       "  <thead>\n",
       "    <tr style=\"text-align: right;\">\n",
       "      <th></th>\n",
       "      <th>color</th>\n",
       "      <th>n</th>\n",
       "    </tr>\n",
       "  </thead>\n",
       "  <tbody>\n",
       "    <tr>\n",
       "      <th>0</th>\n",
       "      <td>green</td>\n",
       "      <td>0.0</td>\n",
       "    </tr>\n",
       "    <tr>\n",
       "      <th>1</th>\n",
       "      <td>None</td>\n",
       "      <td>1.0</td>\n",
       "    </tr>\n",
       "    <tr>\n",
       "      <th>2</th>\n",
       "      <td>red</td>\n",
       "      <td>NaN</td>\n",
       "    </tr>\n",
       "    <tr>\n",
       "      <th>3</th>\n",
       "      <td>green</td>\n",
       "      <td>3.0</td>\n",
       "    </tr>\n",
       "  </tbody>\n",
       "</table>\n",
       "</div>"
      ],
      "text/plain": [
       "   color    n\n",
       "0  green  0.0\n",
       "1   None  1.0\n",
       "2    red  NaN\n",
       "3  green  3.0"
      ]
     },
     "execution_count": 45,
     "metadata": {},
     "output_type": "execute_result"
    }
   ],
   "source": [
    "df = pd.DataFrame({'color': ['green', None, 'red', 'green'],\n",
    "                  'n': [0, 1, np.nan, 3]})\n",
    "df"
   ]
  },
  {
   "cell_type": "markdown",
   "id": "b1b7c119",
   "metadata": {},
   "source": [
    "#### Replace missing value with mean"
   ]
  },
  {
   "cell_type": "code",
   "execution_count": 48,
   "id": "81918c3e",
   "metadata": {},
   "outputs": [
    {
     "data": {
      "text/plain": [
       "array([[0.        ],\n",
       "       [1.        ],\n",
       "       [1.33333333],\n",
       "       [3.        ]])"
      ]
     },
     "execution_count": 48,
     "metadata": {},
     "output_type": "execute_result"
    }
   ],
   "source": [
    "imp = SimpleImputer(missing_values=np.nan, strategy='mean', fill_value=None)\n",
    "imp.fit_transform(df[['n']])"
   ]
  },
  {
   "cell_type": "markdown",
   "id": "1cb30df3",
   "metadata": {},
   "source": [
    "#### Replace missing value with a value outside feature's normal range"
   ]
  },
  {
   "cell_type": "code",
   "execution_count": 51,
   "id": "10b4a844",
   "metadata": {},
   "outputs": [
    {
     "data": {
      "text/plain": [
       "array([[ 0.],\n",
       "       [ 1.],\n",
       "       [-1.],\n",
       "       [ 3.]])"
      ]
     },
     "execution_count": 51,
     "metadata": {},
     "output_type": "execute_result"
    }
   ],
   "source": [
    "imp = SimpleImputer(missing_values=np.nan, strategy='constant', fill_value=-1)\n",
    "imp.fit_transform(df[['n']])"
   ]
  },
  {
   "cell_type": "markdown",
   "id": "0953222c",
   "metadata": {},
   "source": [
    "#### Replace missing string value with most frequent string"
   ]
  },
  {
   "cell_type": "code",
   "execution_count": 54,
   "id": "475148fe",
   "metadata": {},
   "outputs": [
    {
     "data": {
      "text/plain": [
       "array([['green'],\n",
       "       ['green'],\n",
       "       ['red'],\n",
       "       ['green']], dtype=object)"
      ]
     },
     "execution_count": 54,
     "metadata": {},
     "output_type": "execute_result"
    }
   ],
   "source": [
    "imp = SimpleImputer(missing_values=None, strategy='most_frequent', fill_value=None)\n",
    "imp.fit_transform(df[['color']])"
   ]
  },
  {
   "cell_type": "markdown",
   "id": "92573158",
   "metadata": {},
   "source": [
    "### Feature selection"
   ]
  },
  {
   "cell_type": "code",
   "execution_count": 34,
   "id": "d04f1a91",
   "metadata": {},
   "outputs": [
    {
     "name": "stdout",
     "output_type": "stream",
     "text": [
      "                mpg  cyl   disp   hp  drat     wt   qsec  vs  am  gear  carb\n",
      "Mazda RX4      21.0    6  160.0  110  3.90  2.620  16.46   0   1     4     4\n",
      "Mazda RX4 Wag  21.0    6  160.0  110  3.90  2.875  17.02   0   1     4     4\n",
      "Datsun 710     22.8    4  108.0   93  3.85  2.320  18.61   1   1     4     1\n"
     ]
    },
    {
     "data": {
      "text/plain": [
       "array([[  6.   , 160.   ,   2.62 ],\n",
       "       [  6.   , 160.   ,   2.875],\n",
       "       [  4.   , 108.   ,   2.32 ]])"
      ]
     },
     "execution_count": 34,
     "metadata": {},
     "output_type": "execute_result"
    }
   ],
   "source": [
    "df = pd.read_csv('http://www.stat.wisc.edu/~jgillett/451/data/mtcars.csv', index_col=0)\n",
    "features = ['cyl', 'disp', 'hp', 'drat', 'wt', 'qsec', 'vs', 'am', 'gear', 'carb']\n",
    "X = df[features]\n",
    "y = df['mpg']\n",
    "selector = SelectKBest(score_func=f_regression, k=3)\n",
    "print(df.head(n=3)) # to see which features were best\n",
    "selector.fit_transform(X=X, y=y)[0:3, :]\n"
   ]
  },
  {
   "cell_type": "markdown",
   "id": "92573157",
   "metadata": {},
   "source": [
    "### Permutation feature importance"
   ]
  },
  {
   "cell_type": "code",
   "execution_count": 56,
   "id": "d04f1a90",
   "metadata": {},
   "outputs": [
    {
     "name": "stdout",
     "output_type": "stream",
     "text": [
      "pi.importances_mean=[2.59929903e-04 1.76455476e-01 1.07451081e-01 6.56970492e-03\n",
      " 7.07959680e-01 1.19250118e-01 9.52920689e-04 7.59457144e-02\n",
      " 8.48002330e-03 2.58485832e-03]\n",
      "pi.importances_std=[0.00401171 0.02565667 0.05468663 0.00740576 0.13123223 0.04455665\n",
      " 0.00227627 0.02219275 0.0051608  0.00341558]\n",
      "pi.importances=[[ 3.60492395e-03  3.41852282e-03  2.14590057e-03 -7.14063846e-03\n",
      "  -7.29059367e-04]\n",
      " [ 1.41178568e-01  1.54926676e-01  1.77004503e-01  2.04006515e-01\n",
      "   2.05161118e-01]\n",
      " [ 1.51861609e-01  1.48277499e-01  1.00108834e-01  4.36971696e-03\n",
      "   1.32637744e-01]\n",
      " [-1.33511669e-03  1.91533101e-02  6.50864416e-03 -3.61246412e-04\n",
      "   8.88293343e-03]\n",
      " [ 6.84811926e-01  9.18968854e-01  6.64560503e-01  5.15873135e-01\n",
      "   7.55583984e-01]\n",
      " [ 1.66731466e-01  8.58062926e-02  1.05975233e-01  6.24020275e-02\n",
      "   1.75335571e-01]\n",
      " [ 3.79521464e-03  1.70231393e-03  7.28798885e-04 -3.13359584e-03\n",
      "   1.67187183e-03]\n",
      " [ 7.04771912e-02  9.77595390e-02  9.79063498e-02  3.75456564e-02\n",
      "   7.60398356e-02]\n",
      " [ 6.29171057e-03  1.15936287e-02  1.70443181e-02  4.13079650e-03\n",
      "   3.33966258e-03]\n",
      " [ 5.51847633e-03  4.14360560e-03  5.67121869e-03 -3.33181717e-03\n",
      "   9.22808152e-04]]\n"
     ]
    },
    {
     "data": {
      "image/png": "[encoded data removed]",
      "text/plain": [
       "<Figure size 640x480 with 1 Axes>"
      ]
     },
     "metadata": {},
     "output_type": "display_data"
    }
   ],
   "source": [
    "model = linear_model.LinearRegression()\n",
    "model.fit(X, y)\n",
    "pi = permutation_importance(estimator=model, X=X, y=y, random_state=0)\n",
    "print(f'pi.importances_mean={pi.importances_mean}')\n",
    "print(f'pi.importances_std={pi.importances_std}')\n",
    "print(f'pi.importances={pi.importances}')\n",
    "plt.bar(x=range(X.columns.size), height=pi.importances_mean, tick_label=X.columns)\n",
    "plt.title('Feature importance for LinearRegression, mpg vs. rest of mtcars')\n",
    "plt.xlabel('feature name')\n",
    "_ = plt.ylabel(r'reduction in $R^2$ on shuffling feature')\n"
   ]
  },
  {
   "cell_type": "code",
   "execution_count": 58,
   "id": "d04f1z70",
   "metadata": {},
   "outputs": [
    {
     "data": {
      "image/png": "[encoded data removed]",
      "text/plain": [
       "<Figure size 640x480 with 1 Axes>"
      ]
     },
     "metadata": {},
     "output_type": "display_data"
    }
   ],
   "source": [
    "model = DecisionTreeRegressor()\n",
    "model.fit(X, y)\n",
    "pi = permutation_importance(estimator=model, X=X, y=y, random_state=0)\n",
    "plt.bar(x=range(X.columns.size), height=pi.importances_mean, tick_label=X.columns)\n",
    "plt.title('Feature importance for DecisionTreeRegressor, mpg vs. rest of mtcars')\n",
    "plt.xlabel('feature name')\n",
    "_ = plt.ylabel(r'reduction in $R^2$ on shuffling feature')\n"
   ]
  },
  {
   "cell_type": "markdown",
   "id": "92573289",
   "metadata": {},
   "source": [
    "It would be better to find importance on validation data: coming soon.\n"
   ]
  }
 ],
 "metadata": {
  "kernelspec": {
   "display_name": "Python [conda env:base] *",
   "language": "python",
   "name": "conda-base-py"
  },
  "language_info": {
   "codemirror_mode": {
    "name": "ipython",
    "version": 3
   },
   "file_extension": ".py",
   "mimetype": "text/x-python",
   "name": "python",
   "nbconvert_exporter": "python",
   "pygments_lexer": "ipython3",
   "version": "3.12.7"
  }
 },
 "nbformat": 4,
 "nbformat_minor": 5
}
