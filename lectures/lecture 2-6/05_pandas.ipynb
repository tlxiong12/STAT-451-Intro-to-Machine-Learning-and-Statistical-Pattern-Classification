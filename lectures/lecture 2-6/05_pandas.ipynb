{
 "cells": [
  {
   "cell_type": "markdown",
   "metadata": {},
   "source": [
    "# Pandas"
   ]
  },
  {
   "cell_type": "code",
   "execution_count": 1,
   "metadata": {},
   "outputs": [],
   "source": [
    "import pandas as pd"
   ]
  },
  {
   "cell_type": "code",
   "execution_count": 3,
   "metadata": {},
   "outputs": [
    {
     "data": {
      "text/html": [
       "<div>\n",
       "<style scoped>\n",
       "    .dataframe tbody tr th:only-of-type {\n",
       "        vertical-align: middle;\n",
       "    }\n",
       "\n",
       "    .dataframe tbody tr th {\n",
       "        vertical-align: top;\n",
       "    }\n",
       "\n",
       "    .dataframe thead th {\n",
       "        text-align: right;\n",
       "    }\n",
       "</style>\n",
       "<table border=\"1\" class=\"dataframe\">\n",
       "  <thead>\n",
       "    <tr style=\"text-align: right;\">\n",
       "      <th></th>\n",
       "      <th>item</th>\n",
       "      <th>price</th>\n",
       "      <th>n</th>\n",
       "    </tr>\n",
       "  </thead>\n",
       "  <tbody>\n",
       "    <tr>\n",
       "      <th>0</th>\n",
       "      <td>milk</td>\n",
       "      <td>3.5</td>\n",
       "      <td>2</td>\n",
       "    </tr>\n",
       "    <tr>\n",
       "      <th>1</th>\n",
       "      <td>apples</td>\n",
       "      <td>0.4</td>\n",
       "      <td>5</td>\n",
       "    </tr>\n",
       "    <tr>\n",
       "      <th>2</th>\n",
       "      <td>bread</td>\n",
       "      <td>3.1</td>\n",
       "      <td>1</td>\n",
       "    </tr>\n",
       "  </tbody>\n",
       "</table>\n",
       "</div>"
      ],
      "text/plain": [
       "     item  price  n\n",
       "0    milk    3.5  2\n",
       "1  apples    0.4  5\n",
       "2   bread    3.1  1"
      ]
     },
     "execution_count": 3,
     "metadata": {},
     "output_type": "execute_result"
    }
   ],
   "source": [
    "df = pd.DataFrame({'item': ('milk', 'apples', 'bread'), 'price': (3.50, 0.40, 3.10), 'n': (2, 5, 1)})\n",
    "df"
   ]
  },
  {
   "cell_type": "markdown",
   "metadata": {},
   "source": [
    "# Background: dictionary"
   ]
  },
  {
   "cell_type": "code",
   "execution_count": 7,
   "metadata": {},
   "outputs": [
    {
     "data": {
      "text/plain": [
       "{'Anna': 6, 'Teresa': 9}"
      ]
     },
     "execution_count": 7,
     "metadata": {},
     "output_type": "execute_result"
    }
   ],
   "source": [
    "age = {'Anna': 6, 'Teresa': 9}\n",
    "age"
   ]
  },
  {
   "cell_type": "code",
   "execution_count": 8,
   "metadata": {},
   "outputs": [
    {
     "data": {
      "text/plain": [
       "6"
      ]
     },
     "execution_count": 8,
     "metadata": {},
     "output_type": "execute_result"
    }
   ],
   "source": [
    "age['Anna']"
   ]
  },
  {
   "cell_type": "markdown",
   "metadata": {},
   "source": [
    "# Create, write, and read a DataFrame"
   ]
  },
  {
   "cell_type": "code",
   "execution_count": 9,
   "metadata": {},
   "outputs": [
    {
     "data": {
      "text/html": [
       "<div>\n",
       "<style scoped>\n",
       "    .dataframe tbody tr th:only-of-type {\n",
       "        vertical-align: middle;\n",
       "    }\n",
       "\n",
       "    .dataframe tbody tr th {\n",
       "        vertical-align: top;\n",
       "    }\n",
       "\n",
       "    .dataframe thead th {\n",
       "        text-align: right;\n",
       "    }\n",
       "</style>\n",
       "<table border=\"1\" class=\"dataframe\">\n",
       "  <thead>\n",
       "    <tr style=\"text-align: right;\">\n",
       "      <th></th>\n",
       "      <th>item</th>\n",
       "      <th>price</th>\n",
       "      <th>n</th>\n",
       "    </tr>\n",
       "  </thead>\n",
       "  <tbody>\n",
       "    <tr>\n",
       "      <th>0</th>\n",
       "      <td>milk</td>\n",
       "      <td>3.5</td>\n",
       "      <td>2</td>\n",
       "    </tr>\n",
       "    <tr>\n",
       "      <th>1</th>\n",
       "      <td>apples</td>\n",
       "      <td>0.4</td>\n",
       "      <td>5</td>\n",
       "    </tr>\n",
       "    <tr>\n",
       "      <th>2</th>\n",
       "      <td>bread</td>\n",
       "      <td>3.1</td>\n",
       "      <td>1</td>\n",
       "    </tr>\n",
       "  </tbody>\n",
       "</table>\n",
       "</div>"
      ],
      "text/plain": [
       "     item  price  n\n",
       "0    milk    3.5  2\n",
       "1  apples    0.4  5\n",
       "2   bread    3.1  1"
      ]
     },
     "execution_count": 9,
     "metadata": {},
     "output_type": "execute_result"
    }
   ],
   "source": [
    "df = pd.DataFrame({'item': ('milk', 'apples', 'bread'),\n",
    "                   'price': (3.50, 0.40, 3.10),\n",
    "                   'n': (2, 5, 1)})\n",
    "df"
   ]
  },
  {
   "cell_type": "code",
   "execution_count": 10,
   "metadata": {},
   "outputs": [
    {
     "data": {
      "text/html": [
       "<div>\n",
       "<style scoped>\n",
       "    .dataframe tbody tr th:only-of-type {\n",
       "        vertical-align: middle;\n",
       "    }\n",
       "\n",
       "    .dataframe tbody tr th {\n",
       "        vertical-align: top;\n",
       "    }\n",
       "\n",
       "    .dataframe thead th {\n",
       "        text-align: right;\n",
       "    }\n",
       "</style>\n",
       "<table border=\"1\" class=\"dataframe\">\n",
       "  <thead>\n",
       "    <tr style=\"text-align: right;\">\n",
       "      <th></th>\n",
       "      <th>item</th>\n",
       "      <th>price</th>\n",
       "      <th>n</th>\n",
       "    </tr>\n",
       "  </thead>\n",
       "  <tbody>\n",
       "    <tr>\n",
       "      <th>0</th>\n",
       "      <td>milk</td>\n",
       "      <td>3.5</td>\n",
       "      <td>2</td>\n",
       "    </tr>\n",
       "    <tr>\n",
       "      <th>1</th>\n",
       "      <td>apples</td>\n",
       "      <td>0.4</td>\n",
       "      <td>5</td>\n",
       "    </tr>\n",
       "    <tr>\n",
       "      <th>2</th>\n",
       "      <td>bread</td>\n",
       "      <td>3.1</td>\n",
       "      <td>1</td>\n",
       "    </tr>\n",
       "  </tbody>\n",
       "</table>\n",
       "</div>"
      ],
      "text/plain": [
       "     item  price  n\n",
       "0    milk    3.5  2\n",
       "1  apples    0.4  5\n",
       "2   bread    3.1  1"
      ]
     },
     "execution_count": 10,
     "metadata": {},
     "output_type": "execute_result"
    }
   ],
   "source": [
    "df.to_csv(path_or_buf='groceries.csv', index=False)\n",
    "groceries = pd.read_csv(filepath_or_buffer='groceries.csv')\n",
    "groceries"
   ]
  },
  {
   "cell_type": "code",
   "execution_count": 11,
   "metadata": {},
   "outputs": [
    {
     "data": {
      "text/html": [
       "<div>\n",
       "<style scoped>\n",
       "    .dataframe tbody tr th:only-of-type {\n",
       "        vertical-align: middle;\n",
       "    }\n",
       "\n",
       "    .dataframe tbody tr th {\n",
       "        vertical-align: top;\n",
       "    }\n",
       "\n",
       "    .dataframe thead th {\n",
       "        text-align: right;\n",
       "    }\n",
       "</style>\n",
       "<table border=\"1\" class=\"dataframe\">\n",
       "  <thead>\n",
       "    <tr style=\"text-align: right;\">\n",
       "      <th></th>\n",
       "      <th>Exchange</th>\n",
       "      <th>Industry</th>\n",
       "      <th>State</th>\n",
       "      <th>Price</th>\n",
       "      <th>MarketCap</th>\n",
       "      <th>AvgVol</th>\n",
       "    </tr>\n",
       "    <tr>\n",
       "      <th>Symbol</th>\n",
       "      <th></th>\n",
       "      <th></th>\n",
       "      <th></th>\n",
       "      <th></th>\n",
       "      <th></th>\n",
       "      <th></th>\n",
       "    </tr>\n",
       "  </thead>\n",
       "  <tbody>\n",
       "    <tr>\n",
       "      <th>MMM</th>\n",
       "      <td>NYSE</td>\n",
       "      <td>Conglomerate</td>\n",
       "      <td>Minnesota</td>\n",
       "      <td>157.0</td>\n",
       "      <td>8.985700e+10</td>\n",
       "      <td>2690000.0</td>\n",
       "    </tr>\n",
       "    <tr>\n",
       "      <th>AXP</th>\n",
       "      <td>NYSE</td>\n",
       "      <td>Financial</td>\n",
       "      <td>New York</td>\n",
       "      <td>198.0</td>\n",
       "      <td>1.503370e+11</td>\n",
       "      <td>4330000.0</td>\n",
       "    </tr>\n",
       "    <tr>\n",
       "      <th>AMGN</th>\n",
       "      <td>NASDAQ</td>\n",
       "      <td>Biopharmaceutical</td>\n",
       "      <td>California</td>\n",
       "      <td>224.0</td>\n",
       "      <td>1.249590e+11</td>\n",
       "      <td>3110000.0</td>\n",
       "    </tr>\n",
       "    <tr>\n",
       "      <th>AAPL</th>\n",
       "      <td>NASDAQ</td>\n",
       "      <td>IT</td>\n",
       "      <td>California</td>\n",
       "      <td>173.0</td>\n",
       "      <td>2.820000e+12</td>\n",
       "      <td>103560000.0</td>\n",
       "    </tr>\n",
       "    <tr>\n",
       "      <th>BA</th>\n",
       "      <td>NYSE</td>\n",
       "      <td>Aerospace</td>\n",
       "      <td>Illinois</td>\n",
       "      <td>218.0</td>\n",
       "      <td>1.269370e+11</td>\n",
       "      <td>10350000.0</td>\n",
       "    </tr>\n",
       "    <tr>\n",
       "      <th>CAT</th>\n",
       "      <td>NYSE</td>\n",
       "      <td>Construction</td>\n",
       "      <td>Illinois</td>\n",
       "      <td>203.0</td>\n",
       "      <td>1.100330e+11</td>\n",
       "      <td>3450000.0</td>\n",
       "    </tr>\n",
       "    <tr>\n",
       "      <th>CVX</th>\n",
       "      <td>NYSE</td>\n",
       "      <td>Petroleum</td>\n",
       "      <td>California</td>\n",
       "      <td>134.0</td>\n",
       "      <td>2.588120e+11</td>\n",
       "      <td>12440000.0</td>\n",
       "    </tr>\n",
       "    <tr>\n",
       "      <th>CSCO</th>\n",
       "      <td>NASDAQ</td>\n",
       "      <td>IT</td>\n",
       "      <td>California</td>\n",
       "      <td>54.0</td>\n",
       "      <td>2.288900e+11</td>\n",
       "      <td>23770000.0</td>\n",
       "    </tr>\n",
       "    <tr>\n",
       "      <th>KO</th>\n",
       "      <td>NYSE</td>\n",
       "      <td>Soft Drink</td>\n",
       "      <td>Georgia</td>\n",
       "      <td>61.0</td>\n",
       "      <td>2.634360e+11</td>\n",
       "      <td>19550000.0</td>\n",
       "    </tr>\n",
       "    <tr>\n",
       "      <th>DIS</th>\n",
       "      <td>NYSE</td>\n",
       "      <td>Broadcasting</td>\n",
       "      <td>California</td>\n",
       "      <td>155.0</td>\n",
       "      <td>2.816880e+11</td>\n",
       "      <td>13540000.0</td>\n",
       "    </tr>\n",
       "    <tr>\n",
       "      <th>DOW</th>\n",
       "      <td>NYSE</td>\n",
       "      <td>Chemical</td>\n",
       "      <td>Michigan</td>\n",
       "      <td>62.0</td>\n",
       "      <td>4.551300e+10</td>\n",
       "      <td>5700000.0</td>\n",
       "    </tr>\n",
       "    <tr>\n",
       "      <th>GS</th>\n",
       "      <td>NYSE</td>\n",
       "      <td>Financial</td>\n",
       "      <td>New York</td>\n",
       "      <td>364.0</td>\n",
       "      <td>1.214020e+11</td>\n",
       "      <td>3150000.0</td>\n",
       "    </tr>\n",
       "    <tr>\n",
       "      <th>HD</th>\n",
       "      <td>NYSE</td>\n",
       "      <td>Home Improvement</td>\n",
       "      <td>Georgia</td>\n",
       "      <td>353.0</td>\n",
       "      <td>3.688880e+11</td>\n",
       "      <td>4310000.0</td>\n",
       "    </tr>\n",
       "    <tr>\n",
       "      <th>HON</th>\n",
       "      <td>NASDAQ</td>\n",
       "      <td>Conglomerate</td>\n",
       "      <td>North Carolina</td>\n",
       "      <td>190.0</td>\n",
       "      <td>1.299830e+11</td>\n",
       "      <td>3450000.0</td>\n",
       "    </tr>\n",
       "    <tr>\n",
       "      <th>IBM</th>\n",
       "      <td>NYSE</td>\n",
       "      <td>IT</td>\n",
       "      <td>New York</td>\n",
       "      <td>130.0</td>\n",
       "      <td>1.164680e+11</td>\n",
       "      <td>5920000.0</td>\n",
       "    </tr>\n",
       "    <tr>\n",
       "      <th>INTC</th>\n",
       "      <td>NASDAQ</td>\n",
       "      <td>Semiconductor</td>\n",
       "      <td>California</td>\n",
       "      <td>48.0</td>\n",
       "      <td>1.972480e+11</td>\n",
       "      <td>36540000.0</td>\n",
       "    </tr>\n",
       "    <tr>\n",
       "      <th>JNJ</th>\n",
       "      <td>NYSE</td>\n",
       "      <td>Drug</td>\n",
       "      <td>New Jersey</td>\n",
       "      <td>167.0</td>\n",
       "      <td>4.404600e+11</td>\n",
       "      <td>7940000.0</td>\n",
       "    </tr>\n",
       "    <tr>\n",
       "      <th>JPM</th>\n",
       "      <td>NYSE</td>\n",
       "      <td>Financial</td>\n",
       "      <td>New York</td>\n",
       "      <td>155.0</td>\n",
       "      <td>4.555110e+11</td>\n",
       "      <td>14440000.0</td>\n",
       "    </tr>\n",
       "    <tr>\n",
       "      <th>MCD</th>\n",
       "      <td>NYSE</td>\n",
       "      <td>Food</td>\n",
       "      <td>Illinois</td>\n",
       "      <td>254.0</td>\n",
       "      <td>1.896580e+11</td>\n",
       "      <td>2810000.0</td>\n",
       "    </tr>\n",
       "    <tr>\n",
       "      <th>MRK</th>\n",
       "      <td>NYSE</td>\n",
       "      <td>Drug</td>\n",
       "      <td>New Jersey</td>\n",
       "      <td>78.0</td>\n",
       "      <td>1.965430e+11</td>\n",
       "      <td>14070000.0</td>\n",
       "    </tr>\n",
       "    <tr>\n",
       "      <th>MSFT</th>\n",
       "      <td>NASDAQ</td>\n",
       "      <td>IT</td>\n",
       "      <td>Washington</td>\n",
       "      <td>300.0</td>\n",
       "      <td>2.253000e+12</td>\n",
       "      <td>35580000.0</td>\n",
       "    </tr>\n",
       "    <tr>\n",
       "      <th>NKE</th>\n",
       "      <td>NYSE</td>\n",
       "      <td>Apparel</td>\n",
       "      <td>Oregon</td>\n",
       "      <td>146.0</td>\n",
       "      <td>2.302060e+11</td>\n",
       "      <td>5890000.0</td>\n",
       "    </tr>\n",
       "    <tr>\n",
       "      <th>PG</th>\n",
       "      <td>NYSE</td>\n",
       "      <td>Consumer</td>\n",
       "      <td>Ohio</td>\n",
       "      <td>157.0</td>\n",
       "      <td>3.759090e+11</td>\n",
       "      <td>8610000.0</td>\n",
       "    </tr>\n",
       "    <tr>\n",
       "      <th>CRM</th>\n",
       "      <td>NYSE</td>\n",
       "      <td>IT</td>\n",
       "      <td>California</td>\n",
       "      <td>214.0</td>\n",
       "      <td>2.110360e+11</td>\n",
       "      <td>7120000.0</td>\n",
       "    </tr>\n",
       "    <tr>\n",
       "      <th>TRV</th>\n",
       "      <td>NYSE</td>\n",
       "      <td>Insurance</td>\n",
       "      <td>New York</td>\n",
       "      <td>172.0</td>\n",
       "      <td>4.139000e+10</td>\n",
       "      <td>1580000.0</td>\n",
       "    </tr>\n",
       "    <tr>\n",
       "      <th>UNH</th>\n",
       "      <td>NYSE</td>\n",
       "      <td>Health</td>\n",
       "      <td>Minnesota</td>\n",
       "      <td>478.0</td>\n",
       "      <td>4.504210e+11</td>\n",
       "      <td>3370000.0</td>\n",
       "    </tr>\n",
       "    <tr>\n",
       "      <th>VZ</th>\n",
       "      <td>NYSE</td>\n",
       "      <td>Telecom</td>\n",
       "      <td>New York</td>\n",
       "      <td>53.0</td>\n",
       "      <td>2.239960e+11</td>\n",
       "      <td>23190000.0</td>\n",
       "    </tr>\n",
       "    <tr>\n",
       "      <th>V</th>\n",
       "      <td>NYSE</td>\n",
       "      <td>Financial</td>\n",
       "      <td>California</td>\n",
       "      <td>228.0</td>\n",
       "      <td>4.933530e+11</td>\n",
       "      <td>10880000.0</td>\n",
       "    </tr>\n",
       "    <tr>\n",
       "      <th>WBA</th>\n",
       "      <td>NASDAQ</td>\n",
       "      <td>Retailing</td>\n",
       "      <td>Illinois</td>\n",
       "      <td>48.0</td>\n",
       "      <td>4.169600e+10</td>\n",
       "      <td>6620000.0</td>\n",
       "    </tr>\n",
       "    <tr>\n",
       "      <th>WMT</th>\n",
       "      <td>NYSE</td>\n",
       "      <td>Retailing</td>\n",
       "      <td>Arkansas</td>\n",
       "      <td>134.0</td>\n",
       "      <td>3.727260e+11</td>\n",
       "      <td>9630000.0</td>\n",
       "    </tr>\n",
       "  </tbody>\n",
       "</table>\n",
       "</div>"
      ],
      "text/plain": [
       "       Exchange           Industry           State  Price     MarketCap  \\\n",
       "Symbol                                                                    \n",
       "MMM        NYSE       Conglomerate       Minnesota  157.0  8.985700e+10   \n",
       "AXP        NYSE          Financial        New York  198.0  1.503370e+11   \n",
       "AMGN     NASDAQ  Biopharmaceutical      California  224.0  1.249590e+11   \n",
       "AAPL     NASDAQ                 IT      California  173.0  2.820000e+12   \n",
       "BA         NYSE          Aerospace        Illinois  218.0  1.269370e+11   \n",
       "CAT        NYSE       Construction        Illinois  203.0  1.100330e+11   \n",
       "CVX        NYSE          Petroleum      California  134.0  2.588120e+11   \n",
       "CSCO     NASDAQ                 IT      California   54.0  2.288900e+11   \n",
       "KO         NYSE         Soft Drink         Georgia   61.0  2.634360e+11   \n",
       "DIS        NYSE       Broadcasting      California  155.0  2.816880e+11   \n",
       "DOW        NYSE           Chemical        Michigan   62.0  4.551300e+10   \n",
       "GS         NYSE          Financial        New York  364.0  1.214020e+11   \n",
       "HD         NYSE   Home Improvement         Georgia  353.0  3.688880e+11   \n",
       "HON      NASDAQ       Conglomerate  North Carolina  190.0  1.299830e+11   \n",
       "IBM        NYSE                 IT        New York  130.0  1.164680e+11   \n",
       "INTC     NASDAQ      Semiconductor      California   48.0  1.972480e+11   \n",
       "JNJ        NYSE               Drug      New Jersey  167.0  4.404600e+11   \n",
       "JPM        NYSE          Financial        New York  155.0  4.555110e+11   \n",
       "MCD        NYSE               Food        Illinois  254.0  1.896580e+11   \n",
       "MRK        NYSE               Drug      New Jersey   78.0  1.965430e+11   \n",
       "MSFT     NASDAQ                 IT      Washington  300.0  2.253000e+12   \n",
       "NKE        NYSE            Apparel          Oregon  146.0  2.302060e+11   \n",
       "PG         NYSE           Consumer            Ohio  157.0  3.759090e+11   \n",
       "CRM        NYSE                 IT      California  214.0  2.110360e+11   \n",
       "TRV        NYSE          Insurance        New York  172.0  4.139000e+10   \n",
       "UNH        NYSE             Health       Minnesota  478.0  4.504210e+11   \n",
       "VZ         NYSE            Telecom        New York   53.0  2.239960e+11   \n",
       "V          NYSE          Financial      California  228.0  4.933530e+11   \n",
       "WBA      NASDAQ          Retailing        Illinois   48.0  4.169600e+10   \n",
       "WMT        NYSE          Retailing        Arkansas  134.0  3.727260e+11   \n",
       "\n",
       "             AvgVol  \n",
       "Symbol               \n",
       "MMM       2690000.0  \n",
       "AXP       4330000.0  \n",
       "AMGN      3110000.0  \n",
       "AAPL    103560000.0  \n",
       "BA       10350000.0  \n",
       "CAT       3450000.0  \n",
       "CVX      12440000.0  \n",
       "CSCO     23770000.0  \n",
       "KO       19550000.0  \n",
       "DIS      13540000.0  \n",
       "DOW       5700000.0  \n",
       "GS        3150000.0  \n",
       "HD        4310000.0  \n",
       "HON       3450000.0  \n",
       "IBM       5920000.0  \n",
       "INTC     36540000.0  \n",
       "JNJ       7940000.0  \n",
       "JPM      14440000.0  \n",
       "MCD       2810000.0  \n",
       "MRK      14070000.0  \n",
       "MSFT     35580000.0  \n",
       "NKE       5890000.0  \n",
       "PG        8610000.0  \n",
       "CRM       7120000.0  \n",
       "TRV       1580000.0  \n",
       "UNH       3370000.0  \n",
       "VZ       23190000.0  \n",
       "V        10880000.0  \n",
       "WBA       6620000.0  \n",
       "WMT       9630000.0  "
      ]
     },
     "execution_count": 11,
     "metadata": {},
     "output_type": "execute_result"
    }
   ],
   "source": [
    "df = pd.read_csv('http://www.stat.wisc.edu/~jgillett/451/data/DJIA.csv', index_col='Symbol')\n",
    "df"
   ]
  },
  {
   "cell_type": "markdown",
   "metadata": {},
   "source": [
    "# Inspect"
   ]
  },
  {
   "cell_type": "code",
   "execution_count": 12,
   "metadata": {},
   "outputs": [
    {
     "name": "stdout",
     "output_type": "stream",
     "text": [
      "<class 'pandas.core.frame.DataFrame'>\n",
      "Index: 30 entries, MMM to WMT\n",
      "Data columns (total 6 columns):\n",
      " #   Column     Non-Null Count  Dtype  \n",
      "---  ------     --------------  -----  \n",
      " 0   Exchange   30 non-null     object \n",
      " 1   Industry   30 non-null     object \n",
      " 2   State      30 non-null     object \n",
      " 3   Price      30 non-null     float64\n",
      " 4   MarketCap  30 non-null     float64\n",
      " 5   AvgVol     30 non-null     float64\n",
      "dtypes: float64(3), object(3)\n",
      "memory usage: 1.6+ KB\n"
     ]
    }
   ],
   "source": [
    "df.info()"
   ]
  },
  {
   "cell_type": "code",
   "execution_count": 13,
   "metadata": {},
   "outputs": [
    {
     "data": {
      "text/plain": [
       "(30, 6)"
      ]
     },
     "execution_count": 13,
     "metadata": {},
     "output_type": "execute_result"
    }
   ],
   "source": [
    "df.shape"
   ]
  },
  {
   "cell_type": "code",
   "execution_count": 14,
   "metadata": {},
   "outputs": [
    {
     "data": {
      "text/html": [
       "<div>\n",
       "<style scoped>\n",
       "    .dataframe tbody tr th:only-of-type {\n",
       "        vertical-align: middle;\n",
       "    }\n",
       "\n",
       "    .dataframe tbody tr th {\n",
       "        vertical-align: top;\n",
       "    }\n",
       "\n",
       "    .dataframe thead th {\n",
       "        text-align: right;\n",
       "    }\n",
       "</style>\n",
       "<table border=\"1\" class=\"dataframe\">\n",
       "  <thead>\n",
       "    <tr style=\"text-align: right;\">\n",
       "      <th></th>\n",
       "      <th>Exchange</th>\n",
       "      <th>Industry</th>\n",
       "      <th>State</th>\n",
       "      <th>Price</th>\n",
       "      <th>MarketCap</th>\n",
       "      <th>AvgVol</th>\n",
       "    </tr>\n",
       "    <tr>\n",
       "      <th>Symbol</th>\n",
       "      <th></th>\n",
       "      <th></th>\n",
       "      <th></th>\n",
       "      <th></th>\n",
       "      <th></th>\n",
       "      <th></th>\n",
       "    </tr>\n",
       "  </thead>\n",
       "  <tbody>\n",
       "    <tr>\n",
       "      <th>MMM</th>\n",
       "      <td>NYSE</td>\n",
       "      <td>Conglomerate</td>\n",
       "      <td>Minnesota</td>\n",
       "      <td>157.0</td>\n",
       "      <td>8.985700e+10</td>\n",
       "      <td>2690000.0</td>\n",
       "    </tr>\n",
       "    <tr>\n",
       "      <th>AXP</th>\n",
       "      <td>NYSE</td>\n",
       "      <td>Financial</td>\n",
       "      <td>New York</td>\n",
       "      <td>198.0</td>\n",
       "      <td>1.503370e+11</td>\n",
       "      <td>4330000.0</td>\n",
       "    </tr>\n",
       "    <tr>\n",
       "      <th>AMGN</th>\n",
       "      <td>NASDAQ</td>\n",
       "      <td>Biopharmaceutical</td>\n",
       "      <td>California</td>\n",
       "      <td>224.0</td>\n",
       "      <td>1.249590e+11</td>\n",
       "      <td>3110000.0</td>\n",
       "    </tr>\n",
       "    <tr>\n",
       "      <th>AAPL</th>\n",
       "      <td>NASDAQ</td>\n",
       "      <td>IT</td>\n",
       "      <td>California</td>\n",
       "      <td>173.0</td>\n",
       "      <td>2.820000e+12</td>\n",
       "      <td>103560000.0</td>\n",
       "    </tr>\n",
       "    <tr>\n",
       "      <th>BA</th>\n",
       "      <td>NYSE</td>\n",
       "      <td>Aerospace</td>\n",
       "      <td>Illinois</td>\n",
       "      <td>218.0</td>\n",
       "      <td>1.269370e+11</td>\n",
       "      <td>10350000.0</td>\n",
       "    </tr>\n",
       "  </tbody>\n",
       "</table>\n",
       "</div>"
      ],
      "text/plain": [
       "       Exchange           Industry       State  Price     MarketCap  \\\n",
       "Symbol                                                                \n",
       "MMM        NYSE       Conglomerate   Minnesota  157.0  8.985700e+10   \n",
       "AXP        NYSE          Financial    New York  198.0  1.503370e+11   \n",
       "AMGN     NASDAQ  Biopharmaceutical  California  224.0  1.249590e+11   \n",
       "AAPL     NASDAQ                 IT  California  173.0  2.820000e+12   \n",
       "BA         NYSE          Aerospace    Illinois  218.0  1.269370e+11   \n",
       "\n",
       "             AvgVol  \n",
       "Symbol               \n",
       "MMM       2690000.0  \n",
       "AXP       4330000.0  \n",
       "AMGN      3110000.0  \n",
       "AAPL    103560000.0  \n",
       "BA       10350000.0  "
      ]
     },
     "execution_count": 14,
     "metadata": {},
     "output_type": "execute_result"
    }
   ],
   "source": [
    "df.head()"
   ]
  },
  {
   "cell_type": "code",
   "execution_count": 15,
   "metadata": {},
   "outputs": [
    {
     "data": {
      "text/html": [
       "<div>\n",
       "<style scoped>\n",
       "    .dataframe tbody tr th:only-of-type {\n",
       "        vertical-align: middle;\n",
       "    }\n",
       "\n",
       "    .dataframe tbody tr th {\n",
       "        vertical-align: top;\n",
       "    }\n",
       "\n",
       "    .dataframe thead th {\n",
       "        text-align: right;\n",
       "    }\n",
       "</style>\n",
       "<table border=\"1\" class=\"dataframe\">\n",
       "  <thead>\n",
       "    <tr style=\"text-align: right;\">\n",
       "      <th></th>\n",
       "      <th>Exchange</th>\n",
       "      <th>Industry</th>\n",
       "      <th>State</th>\n",
       "      <th>Price</th>\n",
       "      <th>MarketCap</th>\n",
       "      <th>AvgVol</th>\n",
       "    </tr>\n",
       "    <tr>\n",
       "      <th>Symbol</th>\n",
       "      <th></th>\n",
       "      <th></th>\n",
       "      <th></th>\n",
       "      <th></th>\n",
       "      <th></th>\n",
       "      <th></th>\n",
       "    </tr>\n",
       "  </thead>\n",
       "  <tbody>\n",
       "    <tr>\n",
       "      <th>UNH</th>\n",
       "      <td>NYSE</td>\n",
       "      <td>Health</td>\n",
       "      <td>Minnesota</td>\n",
       "      <td>478.0</td>\n",
       "      <td>4.504210e+11</td>\n",
       "      <td>3370000.0</td>\n",
       "    </tr>\n",
       "    <tr>\n",
       "      <th>VZ</th>\n",
       "      <td>NYSE</td>\n",
       "      <td>Telecom</td>\n",
       "      <td>New York</td>\n",
       "      <td>53.0</td>\n",
       "      <td>2.239960e+11</td>\n",
       "      <td>23190000.0</td>\n",
       "    </tr>\n",
       "    <tr>\n",
       "      <th>V</th>\n",
       "      <td>NYSE</td>\n",
       "      <td>Financial</td>\n",
       "      <td>California</td>\n",
       "      <td>228.0</td>\n",
       "      <td>4.933530e+11</td>\n",
       "      <td>10880000.0</td>\n",
       "    </tr>\n",
       "    <tr>\n",
       "      <th>WBA</th>\n",
       "      <td>NASDAQ</td>\n",
       "      <td>Retailing</td>\n",
       "      <td>Illinois</td>\n",
       "      <td>48.0</td>\n",
       "      <td>4.169600e+10</td>\n",
       "      <td>6620000.0</td>\n",
       "    </tr>\n",
       "    <tr>\n",
       "      <th>WMT</th>\n",
       "      <td>NYSE</td>\n",
       "      <td>Retailing</td>\n",
       "      <td>Arkansas</td>\n",
       "      <td>134.0</td>\n",
       "      <td>3.727260e+11</td>\n",
       "      <td>9630000.0</td>\n",
       "    </tr>\n",
       "  </tbody>\n",
       "</table>\n",
       "</div>"
      ],
      "text/plain": [
       "       Exchange   Industry       State  Price     MarketCap      AvgVol\n",
       "Symbol                                                                 \n",
       "UNH        NYSE     Health   Minnesota  478.0  4.504210e+11   3370000.0\n",
       "VZ         NYSE    Telecom    New York   53.0  2.239960e+11  23190000.0\n",
       "V          NYSE  Financial  California  228.0  4.933530e+11  10880000.0\n",
       "WBA      NASDAQ  Retailing    Illinois   48.0  4.169600e+10   6620000.0\n",
       "WMT        NYSE  Retailing    Arkansas  134.0  3.727260e+11   9630000.0"
      ]
     },
     "execution_count": 15,
     "metadata": {},
     "output_type": "execute_result"
    }
   ],
   "source": [
    "df.tail()"
   ]
  },
  {
   "cell_type": "code",
   "execution_count": 16,
   "metadata": {},
   "outputs": [
    {
     "data": {
      "text/plain": [
       "Index(['MMM', 'AXP', 'AMGN', 'AAPL', 'BA', 'CAT', 'CVX', 'CSCO', 'KO', 'DIS',\n",
       "       'DOW', 'GS', 'HD', 'HON', 'IBM', 'INTC', 'JNJ', 'JPM', 'MCD', 'MRK',\n",
       "       'MSFT', 'NKE', 'PG', 'CRM', 'TRV', 'UNH', 'VZ', 'V', 'WBA', 'WMT'],\n",
       "      dtype='object', name='Symbol')"
      ]
     },
     "execution_count": 16,
     "metadata": {},
     "output_type": "execute_result"
    }
   ],
   "source": [
    "df.index"
   ]
  },
  {
   "cell_type": "code",
   "execution_count": 17,
   "metadata": {},
   "outputs": [
    {
     "data": {
      "text/plain": [
       "Index(['Exchange', 'Industry', 'State', 'Price', 'MarketCap', 'AvgVol'], dtype='object')"
      ]
     },
     "execution_count": 17,
     "metadata": {},
     "output_type": "execute_result"
    }
   ],
   "source": [
    "df.columns"
   ]
  },
  {
   "cell_type": "code",
   "execution_count": 18,
   "metadata": {},
   "outputs": [
    {
     "data": {
      "text/html": [
       "<div>\n",
       "<style scoped>\n",
       "    .dataframe tbody tr th:only-of-type {\n",
       "        vertical-align: middle;\n",
       "    }\n",
       "\n",
       "    .dataframe tbody tr th {\n",
       "        vertical-align: top;\n",
       "    }\n",
       "\n",
       "    .dataframe thead th {\n",
       "        text-align: right;\n",
       "    }\n",
       "</style>\n",
       "<table border=\"1\" class=\"dataframe\">\n",
       "  <thead>\n",
       "    <tr style=\"text-align: right;\">\n",
       "      <th></th>\n",
       "      <th>Price</th>\n",
       "      <th>MarketCap</th>\n",
       "      <th>AvgVol</th>\n",
       "    </tr>\n",
       "  </thead>\n",
       "  <tbody>\n",
       "    <tr>\n",
       "      <th>count</th>\n",
       "      <td>30.000000</td>\n",
       "      <td>3.000000e+01</td>\n",
       "      <td>3.000000e+01</td>\n",
       "    </tr>\n",
       "    <tr>\n",
       "      <th>mean</th>\n",
       "      <td>176.933333</td>\n",
       "      <td>3.803452e+11</td>\n",
       "      <td>1.358633e+07</td>\n",
       "    </tr>\n",
       "    <tr>\n",
       "      <th>std</th>\n",
       "      <td>100.994344</td>\n",
       "      <td>6.047850e+11</td>\n",
       "      <td>1.927975e+07</td>\n",
       "    </tr>\n",
       "    <tr>\n",
       "      <th>min</th>\n",
       "      <td>48.000000</td>\n",
       "      <td>4.139000e+10</td>\n",
       "      <td>1.580000e+06</td>\n",
       "    </tr>\n",
       "    <tr>\n",
       "      <th>25%</th>\n",
       "      <td>131.000000</td>\n",
       "      <td>1.254535e+11</td>\n",
       "      <td>3.665000e+06</td>\n",
       "    </tr>\n",
       "    <tr>\n",
       "      <th>50%</th>\n",
       "      <td>162.000000</td>\n",
       "      <td>2.175160e+11</td>\n",
       "      <td>7.530000e+06</td>\n",
       "    </tr>\n",
       "    <tr>\n",
       "      <th>75%</th>\n",
       "      <td>217.000000</td>\n",
       "      <td>3.717665e+11</td>\n",
       "      <td>1.393750e+07</td>\n",
       "    </tr>\n",
       "    <tr>\n",
       "      <th>max</th>\n",
       "      <td>478.000000</td>\n",
       "      <td>2.820000e+12</td>\n",
       "      <td>1.035600e+08</td>\n",
       "    </tr>\n",
       "  </tbody>\n",
       "</table>\n",
       "</div>"
      ],
      "text/plain": [
       "            Price     MarketCap        AvgVol\n",
       "count   30.000000  3.000000e+01  3.000000e+01\n",
       "mean   176.933333  3.803452e+11  1.358633e+07\n",
       "std    100.994344  6.047850e+11  1.927975e+07\n",
       "min     48.000000  4.139000e+10  1.580000e+06\n",
       "25%    131.000000  1.254535e+11  3.665000e+06\n",
       "50%    162.000000  2.175160e+11  7.530000e+06\n",
       "75%    217.000000  3.717665e+11  1.393750e+07\n",
       "max    478.000000  2.820000e+12  1.035600e+08"
      ]
     },
     "execution_count": 18,
     "metadata": {},
     "output_type": "execute_result"
    }
   ],
   "source": [
    "df.describe()"
   ]
  },
  {
   "cell_type": "code",
   "execution_count": 19,
   "metadata": {},
   "outputs": [
    {
     "data": {
      "text/html": [
       "<div>\n",
       "<style scoped>\n",
       "    .dataframe tbody tr th:only-of-type {\n",
       "        vertical-align: middle;\n",
       "    }\n",
       "\n",
       "    .dataframe tbody tr th {\n",
       "        vertical-align: top;\n",
       "    }\n",
       "\n",
       "    .dataframe thead th {\n",
       "        text-align: right;\n",
       "    }\n",
       "</style>\n",
       "<table border=\"1\" class=\"dataframe\">\n",
       "  <thead>\n",
       "    <tr style=\"text-align: right;\">\n",
       "      <th></th>\n",
       "      <th>Exchange</th>\n",
       "      <th>Industry</th>\n",
       "      <th>State</th>\n",
       "    </tr>\n",
       "  </thead>\n",
       "  <tbody>\n",
       "    <tr>\n",
       "      <th>count</th>\n",
       "      <td>30</td>\n",
       "      <td>30</td>\n",
       "      <td>30</td>\n",
       "    </tr>\n",
       "    <tr>\n",
       "      <th>unique</th>\n",
       "      <td>2</td>\n",
       "      <td>20</td>\n",
       "      <td>12</td>\n",
       "    </tr>\n",
       "    <tr>\n",
       "      <th>top</th>\n",
       "      <td>NYSE</td>\n",
       "      <td>IT</td>\n",
       "      <td>California</td>\n",
       "    </tr>\n",
       "    <tr>\n",
       "      <th>freq</th>\n",
       "      <td>23</td>\n",
       "      <td>5</td>\n",
       "      <td>8</td>\n",
       "    </tr>\n",
       "  </tbody>\n",
       "</table>\n",
       "</div>"
      ],
      "text/plain": [
       "       Exchange Industry       State\n",
       "count        30       30          30\n",
       "unique        2       20          12\n",
       "top        NYSE       IT  California\n",
       "freq         23        5           8"
      ]
     },
     "execution_count": 19,
     "metadata": {},
     "output_type": "execute_result"
    }
   ],
   "source": [
    "df.describe(include=[object])"
   ]
  },
  {
   "cell_type": "code",
   "execution_count": 20,
   "metadata": {},
   "outputs": [
    {
     "data": {
      "text/html": [
       "<div>\n",
       "<style scoped>\n",
       "    .dataframe tbody tr th:only-of-type {\n",
       "        vertical-align: middle;\n",
       "    }\n",
       "\n",
       "    .dataframe tbody tr th {\n",
       "        vertical-align: top;\n",
       "    }\n",
       "\n",
       "    .dataframe thead th {\n",
       "        text-align: right;\n",
       "    }\n",
       "</style>\n",
       "<table border=\"1\" class=\"dataframe\">\n",
       "  <thead>\n",
       "    <tr style=\"text-align: right;\">\n",
       "      <th></th>\n",
       "      <th>price</th>\n",
       "      <th>n</th>\n",
       "    </tr>\n",
       "  </thead>\n",
       "  <tbody>\n",
       "    <tr>\n",
       "      <th>count</th>\n",
       "      <td>3.000000</td>\n",
       "      <td>3.000000</td>\n",
       "    </tr>\n",
       "    <tr>\n",
       "      <th>mean</th>\n",
       "      <td>2.333333</td>\n",
       "      <td>2.666667</td>\n",
       "    </tr>\n",
       "    <tr>\n",
       "      <th>std</th>\n",
       "      <td>1.686219</td>\n",
       "      <td>2.081666</td>\n",
       "    </tr>\n",
       "    <tr>\n",
       "      <th>min</th>\n",
       "      <td>0.400000</td>\n",
       "      <td>1.000000</td>\n",
       "    </tr>\n",
       "    <tr>\n",
       "      <th>25%</th>\n",
       "      <td>1.750000</td>\n",
       "      <td>1.500000</td>\n",
       "    </tr>\n",
       "    <tr>\n",
       "      <th>50%</th>\n",
       "      <td>3.100000</td>\n",
       "      <td>2.000000</td>\n",
       "    </tr>\n",
       "    <tr>\n",
       "      <th>75%</th>\n",
       "      <td>3.300000</td>\n",
       "      <td>3.500000</td>\n",
       "    </tr>\n",
       "    <tr>\n",
       "      <th>max</th>\n",
       "      <td>3.500000</td>\n",
       "      <td>5.000000</td>\n",
       "    </tr>\n",
       "  </tbody>\n",
       "</table>\n",
       "</div>"
      ],
      "text/plain": [
       "          price         n\n",
       "count  3.000000  3.000000\n",
       "mean   2.333333  2.666667\n",
       "std    1.686219  2.081666\n",
       "min    0.400000  1.000000\n",
       "25%    1.750000  1.500000\n",
       "50%    3.100000  2.000000\n",
       "75%    3.300000  3.500000\n",
       "max    3.500000  5.000000"
      ]
     },
     "execution_count": 20,
     "metadata": {},
     "output_type": "execute_result"
    }
   ],
   "source": [
    "groceries.describe()"
   ]
  },
  {
   "cell_type": "code",
   "execution_count": 21,
   "metadata": {},
   "outputs": [
    {
     "data": {
      "text/html": [
       "<div>\n",
       "<style scoped>\n",
       "    .dataframe tbody tr th:only-of-type {\n",
       "        vertical-align: middle;\n",
       "    }\n",
       "\n",
       "    .dataframe tbody tr th {\n",
       "        vertical-align: top;\n",
       "    }\n",
       "\n",
       "    .dataframe thead th {\n",
       "        text-align: right;\n",
       "    }\n",
       "</style>\n",
       "<table border=\"1\" class=\"dataframe\">\n",
       "  <thead>\n",
       "    <tr style=\"text-align: right;\">\n",
       "      <th></th>\n",
       "      <th>item</th>\n",
       "    </tr>\n",
       "  </thead>\n",
       "  <tbody>\n",
       "    <tr>\n",
       "      <th>count</th>\n",
       "      <td>3</td>\n",
       "    </tr>\n",
       "    <tr>\n",
       "      <th>unique</th>\n",
       "      <td>3</td>\n",
       "    </tr>\n",
       "    <tr>\n",
       "      <th>top</th>\n",
       "      <td>milk</td>\n",
       "    </tr>\n",
       "    <tr>\n",
       "      <th>freq</th>\n",
       "      <td>1</td>\n",
       "    </tr>\n",
       "  </tbody>\n",
       "</table>\n",
       "</div>"
      ],
      "text/plain": [
       "        item\n",
       "count      3\n",
       "unique     3\n",
       "top     milk\n",
       "freq       1"
      ]
     },
     "execution_count": 21,
     "metadata": {},
     "output_type": "execute_result"
    }
   ],
   "source": [
    "groceries.describe(include=[object])"
   ]
  },
  {
   "cell_type": "code",
   "execution_count": 22,
   "metadata": {},
   "outputs": [
    {
     "data": {
      "text/html": [
       "<div>\n",
       "<style scoped>\n",
       "    .dataframe tbody tr th:only-of-type {\n",
       "        vertical-align: middle;\n",
       "    }\n",
       "\n",
       "    .dataframe tbody tr th {\n",
       "        vertical-align: top;\n",
       "    }\n",
       "\n",
       "    .dataframe thead th {\n",
       "        text-align: right;\n",
       "    }\n",
       "</style>\n",
       "<table border=\"1\" class=\"dataframe\">\n",
       "  <thead>\n",
       "    <tr style=\"text-align: right;\">\n",
       "      <th>Exchange</th>\n",
       "      <th>NASDAQ</th>\n",
       "      <th>NYSE</th>\n",
       "    </tr>\n",
       "    <tr>\n",
       "      <th>State</th>\n",
       "      <th></th>\n",
       "      <th></th>\n",
       "    </tr>\n",
       "  </thead>\n",
       "  <tbody>\n",
       "    <tr>\n",
       "      <th>Arkansas</th>\n",
       "      <td>0</td>\n",
       "      <td>1</td>\n",
       "    </tr>\n",
       "    <tr>\n",
       "      <th>California</th>\n",
       "      <td>4</td>\n",
       "      <td>4</td>\n",
       "    </tr>\n",
       "    <tr>\n",
       "      <th>Georgia</th>\n",
       "      <td>0</td>\n",
       "      <td>2</td>\n",
       "    </tr>\n",
       "    <tr>\n",
       "      <th>Illinois</th>\n",
       "      <td>1</td>\n",
       "      <td>3</td>\n",
       "    </tr>\n",
       "    <tr>\n",
       "      <th>Michigan</th>\n",
       "      <td>0</td>\n",
       "      <td>1</td>\n",
       "    </tr>\n",
       "    <tr>\n",
       "      <th>Minnesota</th>\n",
       "      <td>0</td>\n",
       "      <td>2</td>\n",
       "    </tr>\n",
       "    <tr>\n",
       "      <th>New Jersey</th>\n",
       "      <td>0</td>\n",
       "      <td>2</td>\n",
       "    </tr>\n",
       "    <tr>\n",
       "      <th>New York</th>\n",
       "      <td>0</td>\n",
       "      <td>6</td>\n",
       "    </tr>\n",
       "    <tr>\n",
       "      <th>North Carolina</th>\n",
       "      <td>1</td>\n",
       "      <td>0</td>\n",
       "    </tr>\n",
       "    <tr>\n",
       "      <th>Ohio</th>\n",
       "      <td>0</td>\n",
       "      <td>1</td>\n",
       "    </tr>\n",
       "    <tr>\n",
       "      <th>Oregon</th>\n",
       "      <td>0</td>\n",
       "      <td>1</td>\n",
       "    </tr>\n",
       "    <tr>\n",
       "      <th>Washington</th>\n",
       "      <td>1</td>\n",
       "      <td>0</td>\n",
       "    </tr>\n",
       "  </tbody>\n",
       "</table>\n",
       "</div>"
      ],
      "text/plain": [
       "Exchange        NASDAQ  NYSE\n",
       "State                       \n",
       "Arkansas             0     1\n",
       "California           4     4\n",
       "Georgia              0     2\n",
       "Illinois             1     3\n",
       "Michigan             0     1\n",
       "Minnesota            0     2\n",
       "New Jersey           0     2\n",
       "New York             0     6\n",
       "North Carolina       1     0\n",
       "Ohio                 0     1\n",
       "Oregon               0     1\n",
       "Washington           1     0"
      ]
     },
     "execution_count": 22,
     "metadata": {},
     "output_type": "execute_result"
    }
   ],
   "source": [
    "pd.crosstab(df['State'], df['Exchange'])"
   ]
  },
  {
   "cell_type": "code",
   "execution_count": 23,
   "metadata": {},
   "outputs": [
    {
     "data": {
      "text/plain": [
       "Exchange                NYSE\n",
       "Industry             Telecom\n",
       "State             Washington\n",
       "Price                  478.0\n",
       "MarketCap    2820000000000.0\n",
       "AvgVol           103560000.0\n",
       "dtype: object"
      ]
     },
     "execution_count": 23,
     "metadata": {},
     "output_type": "execute_result"
    }
   ],
   "source": [
    "df.max()"
   ]
  },
  {
   "cell_type": "code",
   "execution_count": 24,
   "metadata": {},
   "outputs": [
    {
     "data": {
      "text/plain": [
       "478.0"
      ]
     },
     "execution_count": 24,
     "metadata": {},
     "output_type": "execute_result"
    }
   ],
   "source": [
    "df['Price'].max() # peek ahead to \"Select a subset\" first bullet"
   ]
  },
  {
   "cell_type": "code",
   "execution_count": 25,
   "metadata": {},
   "outputs": [
    {
     "data": {
      "text/plain": [
       "'AAPL'"
      ]
     },
     "execution_count": 25,
     "metadata": {},
     "output_type": "execute_result"
    }
   ],
   "source": [
    "df['MarketCap'].idxmax()"
   ]
  },
  {
   "cell_type": "code",
   "execution_count": 26,
   "metadata": {},
   "outputs": [
    {
     "data": {
      "text/plain": [
       "176.93333333333334"
      ]
     },
     "execution_count": 26,
     "metadata": {},
     "output_type": "execute_result"
    }
   ],
   "source": [
    "df['Price'].mean()"
   ]
  },
  {
   "cell_type": "code",
   "execution_count": 27,
   "metadata": {},
   "outputs": [
    {
     "data": {
      "text/plain": [
       "NYSE      23\n",
       "NASDAQ     7\n",
       "Name: Exchange, dtype: int64"
      ]
     },
     "execution_count": 27,
     "metadata": {},
     "output_type": "execute_result"
    }
   ],
   "source": [
    "df.Exchange.value_counts()"
   ]
  },
  {
   "cell_type": "code",
   "execution_count": 28,
   "metadata": {},
   "outputs": [
    {
     "data": {
      "text/plain": [
       "dict_keys(['NASDAQ', 'NYSE'])"
      ]
     },
     "execution_count": 28,
     "metadata": {},
     "output_type": "execute_result"
    }
   ],
   "source": [
    "df.groupby('Exchange').groups.keys()"
   ]
  },
  {
   "cell_type": "code",
   "execution_count": 29,
   "metadata": {},
   "outputs": [
    {
     "data": {
      "text/html": [
       "<div>\n",
       "<style scoped>\n",
       "    .dataframe tbody tr th:only-of-type {\n",
       "        vertical-align: middle;\n",
       "    }\n",
       "\n",
       "    .dataframe tbody tr th {\n",
       "        vertical-align: top;\n",
       "    }\n",
       "\n",
       "    .dataframe thead th {\n",
       "        text-align: right;\n",
       "    }\n",
       "</style>\n",
       "<table border=\"1\" class=\"dataframe\">\n",
       "  <thead>\n",
       "    <tr style=\"text-align: right;\">\n",
       "      <th></th>\n",
       "      <th>Price</th>\n",
       "      <th>MarketCap</th>\n",
       "      <th>AvgVol</th>\n",
       "    </tr>\n",
       "    <tr>\n",
       "      <th>Exchange</th>\n",
       "      <th></th>\n",
       "      <th></th>\n",
       "      <th></th>\n",
       "    </tr>\n",
       "  </thead>\n",
       "  <tbody>\n",
       "    <tr>\n",
       "      <th>NASDAQ</th>\n",
       "      <td>148.142857</td>\n",
       "      <td>8.279680e+11</td>\n",
       "      <td>3.037571e+07</td>\n",
       "    </tr>\n",
       "    <tr>\n",
       "      <th>NYSE</th>\n",
       "      <td>185.695652</td>\n",
       "      <td>2.441122e+11</td>\n",
       "      <td>8.476522e+06</td>\n",
       "    </tr>\n",
       "  </tbody>\n",
       "</table>\n",
       "</div>"
      ],
      "text/plain": [
       "               Price     MarketCap        AvgVol\n",
       "Exchange                                        \n",
       "NASDAQ    148.142857  8.279680e+11  3.037571e+07\n",
       "NYSE      185.695652  2.441122e+11  8.476522e+06"
      ]
     },
     "execution_count": 29,
     "metadata": {},
     "output_type": "execute_result"
    }
   ],
   "source": [
    "df.groupby('Exchange').mean(numeric_only=True)"
   ]
  },
  {
   "cell_type": "markdown",
   "metadata": {},
   "source": [
    "# Select a subset"
   ]
  },
  {
   "cell_type": "code",
   "execution_count": 30,
   "metadata": {},
   "outputs": [
    {
     "data": {
      "text/plain": [
       "Symbol\n",
       "MMM     157.0\n",
       "AXP     198.0\n",
       "AMGN    224.0\n",
       "AAPL    173.0\n",
       "BA      218.0\n",
       "CAT     203.0\n",
       "CVX     134.0\n",
       "CSCO     54.0\n",
       "KO       61.0\n",
       "DIS     155.0\n",
       "DOW      62.0\n",
       "GS      364.0\n",
       "HD      353.0\n",
       "HON     190.0\n",
       "IBM     130.0\n",
       "INTC     48.0\n",
       "JNJ     167.0\n",
       "JPM     155.0\n",
       "MCD     254.0\n",
       "MRK      78.0\n",
       "MSFT    300.0\n",
       "NKE     146.0\n",
       "PG      157.0\n",
       "CRM     214.0\n",
       "TRV     172.0\n",
       "UNH     478.0\n",
       "VZ       53.0\n",
       "V       228.0\n",
       "WBA      48.0\n",
       "WMT     134.0\n",
       "Name: Price, dtype: float64"
      ]
     },
     "execution_count": 30,
     "metadata": {},
     "output_type": "execute_result"
    }
   ],
   "source": [
    "df.Price"
   ]
  },
  {
   "cell_type": "code",
   "execution_count": 31,
   "metadata": {},
   "outputs": [
    {
     "data": {
      "text/html": [
       "<div>\n",
       "<style scoped>\n",
       "    .dataframe tbody tr th:only-of-type {\n",
       "        vertical-align: middle;\n",
       "    }\n",
       "\n",
       "    .dataframe tbody tr th {\n",
       "        vertical-align: top;\n",
       "    }\n",
       "\n",
       "    .dataframe thead th {\n",
       "        text-align: right;\n",
       "    }\n",
       "</style>\n",
       "<table border=\"1\" class=\"dataframe\">\n",
       "  <thead>\n",
       "    <tr style=\"text-align: right;\">\n",
       "      <th></th>\n",
       "      <th>Price</th>\n",
       "      <th>MarketCap</th>\n",
       "    </tr>\n",
       "    <tr>\n",
       "      <th>Symbol</th>\n",
       "      <th></th>\n",
       "      <th></th>\n",
       "    </tr>\n",
       "  </thead>\n",
       "  <tbody>\n",
       "    <tr>\n",
       "      <th>MMM</th>\n",
       "      <td>157.0</td>\n",
       "      <td>8.985700e+10</td>\n",
       "    </tr>\n",
       "    <tr>\n",
       "      <th>AXP</th>\n",
       "      <td>198.0</td>\n",
       "      <td>1.503370e+11</td>\n",
       "    </tr>\n",
       "    <tr>\n",
       "      <th>AMGN</th>\n",
       "      <td>224.0</td>\n",
       "      <td>1.249590e+11</td>\n",
       "    </tr>\n",
       "    <tr>\n",
       "      <th>AAPL</th>\n",
       "      <td>173.0</td>\n",
       "      <td>2.820000e+12</td>\n",
       "    </tr>\n",
       "    <tr>\n",
       "      <th>BA</th>\n",
       "      <td>218.0</td>\n",
       "      <td>1.269370e+11</td>\n",
       "    </tr>\n",
       "    <tr>\n",
       "      <th>CAT</th>\n",
       "      <td>203.0</td>\n",
       "      <td>1.100330e+11</td>\n",
       "    </tr>\n",
       "    <tr>\n",
       "      <th>CVX</th>\n",
       "      <td>134.0</td>\n",
       "      <td>2.588120e+11</td>\n",
       "    </tr>\n",
       "    <tr>\n",
       "      <th>CSCO</th>\n",
       "      <td>54.0</td>\n",
       "      <td>2.288900e+11</td>\n",
       "    </tr>\n",
       "    <tr>\n",
       "      <th>KO</th>\n",
       "      <td>61.0</td>\n",
       "      <td>2.634360e+11</td>\n",
       "    </tr>\n",
       "    <tr>\n",
       "      <th>DIS</th>\n",
       "      <td>155.0</td>\n",
       "      <td>2.816880e+11</td>\n",
       "    </tr>\n",
       "    <tr>\n",
       "      <th>DOW</th>\n",
       "      <td>62.0</td>\n",
       "      <td>4.551300e+10</td>\n",
       "    </tr>\n",
       "    <tr>\n",
       "      <th>GS</th>\n",
       "      <td>364.0</td>\n",
       "      <td>1.214020e+11</td>\n",
       "    </tr>\n",
       "    <tr>\n",
       "      <th>HD</th>\n",
       "      <td>353.0</td>\n",
       "      <td>3.688880e+11</td>\n",
       "    </tr>\n",
       "    <tr>\n",
       "      <th>HON</th>\n",
       "      <td>190.0</td>\n",
       "      <td>1.299830e+11</td>\n",
       "    </tr>\n",
       "    <tr>\n",
       "      <th>IBM</th>\n",
       "      <td>130.0</td>\n",
       "      <td>1.164680e+11</td>\n",
       "    </tr>\n",
       "    <tr>\n",
       "      <th>INTC</th>\n",
       "      <td>48.0</td>\n",
       "      <td>1.972480e+11</td>\n",
       "    </tr>\n",
       "    <tr>\n",
       "      <th>JNJ</th>\n",
       "      <td>167.0</td>\n",
       "      <td>4.404600e+11</td>\n",
       "    </tr>\n",
       "    <tr>\n",
       "      <th>JPM</th>\n",
       "      <td>155.0</td>\n",
       "      <td>4.555110e+11</td>\n",
       "    </tr>\n",
       "    <tr>\n",
       "      <th>MCD</th>\n",
       "      <td>254.0</td>\n",
       "      <td>1.896580e+11</td>\n",
       "    </tr>\n",
       "    <tr>\n",
       "      <th>MRK</th>\n",
       "      <td>78.0</td>\n",
       "      <td>1.965430e+11</td>\n",
       "    </tr>\n",
       "    <tr>\n",
       "      <th>MSFT</th>\n",
       "      <td>300.0</td>\n",
       "      <td>2.253000e+12</td>\n",
       "    </tr>\n",
       "    <tr>\n",
       "      <th>NKE</th>\n",
       "      <td>146.0</td>\n",
       "      <td>2.302060e+11</td>\n",
       "    </tr>\n",
       "    <tr>\n",
       "      <th>PG</th>\n",
       "      <td>157.0</td>\n",
       "      <td>3.759090e+11</td>\n",
       "    </tr>\n",
       "    <tr>\n",
       "      <th>CRM</th>\n",
       "      <td>214.0</td>\n",
       "      <td>2.110360e+11</td>\n",
       "    </tr>\n",
       "    <tr>\n",
       "      <th>TRV</th>\n",
       "      <td>172.0</td>\n",
       "      <td>4.139000e+10</td>\n",
       "    </tr>\n",
       "    <tr>\n",
       "      <th>UNH</th>\n",
       "      <td>478.0</td>\n",
       "      <td>4.504210e+11</td>\n",
       "    </tr>\n",
       "    <tr>\n",
       "      <th>VZ</th>\n",
       "      <td>53.0</td>\n",
       "      <td>2.239960e+11</td>\n",
       "    </tr>\n",
       "    <tr>\n",
       "      <th>V</th>\n",
       "      <td>228.0</td>\n",
       "      <td>4.933530e+11</td>\n",
       "    </tr>\n",
       "    <tr>\n",
       "      <th>WBA</th>\n",
       "      <td>48.0</td>\n",
       "      <td>4.169600e+10</td>\n",
       "    </tr>\n",
       "    <tr>\n",
       "      <th>WMT</th>\n",
       "      <td>134.0</td>\n",
       "      <td>3.727260e+11</td>\n",
       "    </tr>\n",
       "  </tbody>\n",
       "</table>\n",
       "</div>"
      ],
      "text/plain": [
       "        Price     MarketCap\n",
       "Symbol                     \n",
       "MMM     157.0  8.985700e+10\n",
       "AXP     198.0  1.503370e+11\n",
       "AMGN    224.0  1.249590e+11\n",
       "AAPL    173.0  2.820000e+12\n",
       "BA      218.0  1.269370e+11\n",
       "CAT     203.0  1.100330e+11\n",
       "CVX     134.0  2.588120e+11\n",
       "CSCO     54.0  2.288900e+11\n",
       "KO       61.0  2.634360e+11\n",
       "DIS     155.0  2.816880e+11\n",
       "DOW      62.0  4.551300e+10\n",
       "GS      364.0  1.214020e+11\n",
       "HD      353.0  3.688880e+11\n",
       "HON     190.0  1.299830e+11\n",
       "IBM     130.0  1.164680e+11\n",
       "INTC     48.0  1.972480e+11\n",
       "JNJ     167.0  4.404600e+11\n",
       "JPM     155.0  4.555110e+11\n",
       "MCD     254.0  1.896580e+11\n",
       "MRK      78.0  1.965430e+11\n",
       "MSFT    300.0  2.253000e+12\n",
       "NKE     146.0  2.302060e+11\n",
       "PG      157.0  3.759090e+11\n",
       "CRM     214.0  2.110360e+11\n",
       "TRV     172.0  4.139000e+10\n",
       "UNH     478.0  4.504210e+11\n",
       "VZ       53.0  2.239960e+11\n",
       "V       228.0  4.933530e+11\n",
       "WBA      48.0  4.169600e+10\n",
       "WMT     134.0  3.727260e+11"
      ]
     },
     "execution_count": 31,
     "metadata": {},
     "output_type": "execute_result"
    }
   ],
   "source": [
    "df[['Price', 'MarketCap']]"
   ]
  },
  {
   "cell_type": "code",
   "execution_count": null,
   "metadata": {},
   "outputs": [],
   "source": [
    "df.loc['AAPL']"
   ]
  },
  {
   "cell_type": "code",
   "execution_count": null,
   "metadata": {},
   "outputs": [],
   "source": [
    "df[0:3]"
   ]
  },
  {
   "cell_type": "code",
   "execution_count": null,
   "metadata": {},
   "outputs": [],
   "source": [
    "df.iloc[0:3, [0, 2, 3]]"
   ]
  },
  {
   "cell_type": "code",
   "execution_count": null,
   "metadata": {},
   "outputs": [],
   "source": [
    "df.loc['AAPL', 'State']\n"
   ]
  },
  {
   "cell_type": "code",
   "execution_count": null,
   "metadata": {},
   "outputs": [],
   "source": [
    "df.loc[['AAPL', 'MMM'], ['State', 'Industry']]\n"
   ]
  },
  {
   "cell_type": "code",
   "execution_count": null,
   "metadata": {},
   "outputs": [],
   "source": [
    "df[df.Exchange == 'NASDAQ']"
   ]
  },
  {
   "cell_type": "markdown",
   "metadata": {},
   "source": [
    "# Sort"
   ]
  },
  {
   "cell_type": "code",
   "execution_count": null,
   "metadata": {},
   "outputs": [],
   "source": [
    "df.sort_index(axis=0, ascending=True) # also try 1, False"
   ]
  },
  {
   "cell_type": "code",
   "execution_count": null,
   "metadata": {},
   "outputs": [],
   "source": [
    "df.sort_values(by=['Industry', 'State'], axis=0, ascending=False) # try [False, True]"
   ]
  },
  {
   "cell_type": "markdown",
   "metadata": {},
   "source": [
    "# Add to a DataFrame"
   ]
  },
  {
   "cell_type": "code",
   "execution_count": null,
   "metadata": {},
   "outputs": [],
   "source": [
    "groceries['weight'] = (8, 0.3, 1.0)\n",
    "groceries"
   ]
  },
  {
   "cell_type": "code",
   "execution_count": null,
   "metadata": {},
   "outputs": [],
   "source": [
    "new_row = pd.DataFrame({'item':'popcorn', 'price':3, 'n':1, 'weight':2}, index=[0])\n",
    "new_row"
   ]
  },
  {
   "cell_type": "code",
   "execution_count": null,
   "metadata": {},
   "outputs": [],
   "source": [
    "pd.concat([groceries, new_row], ignore_index=True) # ignore to reset second 0"
   ]
  },
  {
   "cell_type": "markdown",
   "metadata": {},
   "source": [
    "# Examples"
   ]
  },
  {
   "cell_type": "code",
   "execution_count": null,
   "metadata": {},
   "outputs": [],
   "source": [
    "# average Price of NASDAQ stocks\n",
    "df[df.Exchange == 'NASDAQ'].Price.mean() # try NYSE"
   ]
  },
  {
   "cell_type": "code",
   "execution_count": null,
   "metadata": {},
   "outputs": [],
   "source": [
    "# highest Price among the NASDAQ stocks with AvgVol under 10 million\n",
    "df[(df.Exchange == 'NASDAQ') & (df.AvgVol < 1e7)].Price.max()"
   ]
  },
  {
   "cell_type": "code",
   "execution_count": null,
   "metadata": {},
   "outputs": [],
   "source": [
    "# average MarketCap of 3 highest-Price stocks\n",
    "df.sort_values(by='Price', ascending=False)[0:3].MarketCap.mean()"
   ]
  }
 ],
 "metadata": {
  "kernelspec": {
   "display_name": "Python 3 (ipykernel)",
   "language": "python",
   "name": "python3"
  },
  "language_info": {
   "codemirror_mode": {
    "name": "ipython",
    "version": 3
   },
   "file_extension": ".py",
   "mimetype": "text/x-python",
   "name": "python",
   "nbconvert_exporter": "python",
   "pygments_lexer": "ipython3",
   "version": "3.10.9"
  }
 },
 "nbformat": 4,
 "nbformat_minor": 4
}
