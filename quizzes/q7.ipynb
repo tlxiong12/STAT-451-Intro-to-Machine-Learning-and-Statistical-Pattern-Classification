{
 "cells": [
  {
   "cell_type": "code",
   "execution_count": 30,
   "id": "6eea803e-fd58-4d61-b51c-239b2a594a6a",
   "metadata": {},
   "outputs": [
    {
     "data": {
      "text/plain": [
       "100.0"
      ]
     },
     "execution_count": 30,
     "metadata": {},
     "output_type": "execute_result"
    }
   ],
   "source": [
    "#q1\n",
    "def Celsius(f):\n",
    "    c = (5/9)*(f - 32)\n",
    "    return c\n",
    "\n",
    "Celsius(212)"
   ]
  },
  {
   "cell_type": "code",
   "execution_count": 32,
   "id": "4627d5a8-50c8-4339-b2f9-13e58b8b206e",
   "metadata": {},
   "outputs": [],
   "source": [
    "import numpy as np # for np.arange() and np.prod() (see hint linked below)\n",
    "def baby_binom_pmf(x, n, p):\n",
    "    binom = np.prod(np.arange(n - x + 1, n + 1)) / np.prod(np.arange(1, x + 1))\n",
    "    probability = binom * (p ** x) * ((1 - p) ** (n - x))\n",
    "    return probability\n",
    "\n",
    "assert np.isclose(.25, baby_binom_pmf(0, 2, .5))\n",
    "assert np.isclose(.50, baby_binom_pmf(1, 2, .5))\n",
    "assert np.isclose(.25, baby_binom_pmf(2, 2, .5))"
   ]
  },
  {
   "cell_type": "code",
   "execution_count": 34,
   "id": "6557da4f-b487-41c0-962a-4262249c8fbe",
   "metadata": {},
   "outputs": [],
   "source": [
    "def baby_binom_pmf(x, n, p):\n",
    "    n_fac = np.prod(np.arange(1, n + 1))\n",
    "    x_fac = np.prod(np.arange(1, x + 1))\n",
    "    n_x_fac = np.prod(np.arange(1, (n - x) + 1))\n",
    "    binom = n_fac / (x_fac * n_x_fac)\n",
    "    probability = binom * (p ** x) * ((1 - p) ** (n - x))\n",
    "    return probability\n",
    "\n",
    "assert np.isclose(.25, baby_binom_pmf(0, 2, .5))\n",
    "assert np.isclose(.50, baby_binom_pmf(1, 2, .5))\n",
    "assert np.isclose(.25, baby_binom_pmf(2, 2, .5))"
   ]
  },
  {
   "cell_type": "code",
   "execution_count": null,
   "id": "6a16fa0a-156b-4317-9e6a-2c88aac071ca",
   "metadata": {},
   "outputs": [],
   "source": []
  }
 ],
 "metadata": {
  "kernelspec": {
   "display_name": "Python [conda env:base] *",
   "language": "python",
   "name": "conda-base-py"
  },
  "language_info": {
   "codemirror_mode": {
    "name": "ipython",
    "version": 3
   },
   "file_extension": ".py",
   "mimetype": "text/x-python",
   "name": "python",
   "nbconvert_exporter": "python",
   "pygments_lexer": "ipython3",
   "version": "3.12.7"
  }
 },
 "nbformat": 4,
 "nbformat_minor": 5
}
