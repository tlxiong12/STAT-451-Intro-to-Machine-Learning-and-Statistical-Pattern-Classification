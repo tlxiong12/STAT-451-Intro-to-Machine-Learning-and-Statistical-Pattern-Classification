{
 "cells": [
  {
   "cell_type": "code",
   "execution_count": 1,
   "id": "f8fcd857",
   "metadata": {},
   "outputs": [],
   "source": [
    "import numpy as np"
   ]
  },
  {
   "cell_type": "code",
   "execution_count": 2,
   "id": "2ef36472",
   "metadata": {},
   "outputs": [
    {
     "data": {
      "text/plain": [
       "array([4, 1, 3, 2])"
      ]
     },
     "execution_count": 2,
     "metadata": {},
     "output_type": "execute_result"
    }
   ],
   "source": [
    "A = np.array([4, 1, 3, 2])\n",
    "A"
   ]
  },
  {
   "cell_type": "code",
   "execution_count": 3,
   "id": "5f16ba14",
   "metadata": {},
   "outputs": [
    {
     "data": {
      "text/plain": [
       "array([ 0, 10, 20, 30, 40, 50, 60, 70, 80, 90])"
      ]
     },
     "execution_count": 3,
     "metadata": {},
     "output_type": "execute_result"
    }
   ],
   "source": [
    "A = np.arange(0, 100, 10)\n",
    "A"
   ]
  },
  {
   "cell_type": "code",
   "execution_count": 4,
   "id": "aecc84d4",
   "metadata": {},
   "outputs": [
    {
     "data": {
      "text/plain": [
       "array([0. , 0.1, 0.2, 0.3, 0.4, 0.5, 0.6, 0.7, 0.8, 0.9, 1. ])"
      ]
     },
     "execution_count": 4,
     "metadata": {},
     "output_type": "execute_result"
    }
   ],
   "source": [
    "# 3. Write a line of code that sets a variable A to an ndarray of 11 evenly-spaced numbers spanning [0, 1]. (hint)\n",
    "A = np.linspace(0, 1, 11)\n",
    "A"
   ]
  },
  {
   "cell_type": "code",
   "execution_count": 5,
   "id": "5996c545",
   "metadata": {},
   "outputs": [
    {
     "data": {
      "text/plain": [
       "array([False,  True, False])"
      ]
     },
     "execution_count": 5,
     "metadata": {},
     "output_type": "execute_result"
    }
   ],
   "source": [
    "# 4. Study the \"Array types (dtype)\" section of the notes.\n",
    "\n",
    "# I have an array A of int. Write a line of code that sets array B to be a corresponding array of bool such that\n",
    "# B[i] indicates whether A[i] is negative. For example, for A = np.array([3, -2, 4]),\n",
    "# B should be np.array([False, True, False]).\n",
    "\n",
    "A = np.array([3, -2, 4])\n",
    "B = A < 0\n",
    "B"
   ]
  },
  {
   "cell_type": "code",
   "execution_count": 6,
   "id": "3d2ec4fc",
   "metadata": {},
   "outputs": [
    {
     "data": {
      "text/plain": [
       "1"
      ]
     },
     "execution_count": 6,
     "metadata": {},
     "output_type": "execute_result"
    }
   ],
   "source": [
    "# 5. Study the \"A few functions\" section of the notes.\n",
    "\n",
    "# Consider the array \n",
    "# data = np.array([36,55,9,72,77,7,57,41,74,34,73,3,31,28,85,67,65,14,19,20,11,97,1,8,35,81,12,10,54,4]). \n",
    "# Find the smallest value.\n",
    "\n",
    "data = np.array([45,94,82,80,77,33,53,73,81,13,67,78,16,30,84,32,42,86,18,72,9,47,1,26,76,5,46,93,27,52])\n",
    "np.min(data)"
   ]
  },
  {
   "cell_type": "code",
   "execution_count": 7,
   "id": "601c491d",
   "metadata": {},
   "outputs": [
    {
     "data": {
      "text/plain": [
       "22"
      ]
     },
     "execution_count": 7,
     "metadata": {},
     "output_type": "execute_result"
    }
   ],
   "source": [
    "# 6. Find the index of data's smallest value.\n",
    "np.argmin(data)"
   ]
  },
  {
   "cell_type": "code",
   "execution_count": 8,
   "id": "16a93b3c",
   "metadata": {},
   "outputs": [
    {
     "data": {
      "text/plain": [
       "array([94, 93, 86, 84, 82, 81, 80, 78, 77, 76, 73, 72, 67, 53, 52, 47, 46,\n",
       "       45, 42, 33, 32, 30, 27, 26, 18, 16, 13,  9,  5,  1])"
      ]
     },
     "execution_count": 8,
     "metadata": {},
     "output_type": "execute_result"
    }
   ],
   "source": [
    "# 7. Make a sorted copy of data (from largest to smallest). What is the largest number?\n",
    "np.sort(data)[::-1]"
   ]
  },
  {
   "cell_type": "code",
   "execution_count": 9,
   "id": "e22f2d10",
   "metadata": {},
   "outputs": [
    {
     "data": {
      "text/plain": [
       "28"
      ]
     },
     "execution_count": 9,
     "metadata": {},
     "output_type": "execute_result"
    }
   ],
   "source": [
    "# 8. Find the sum of the 4 lowest values in data. (hint\n",
    "sum(np.sort(data)[:4])"
   ]
  },
  {
   "cell_type": "code",
   "execution_count": 10,
   "id": "32fca868",
   "metadata": {},
   "outputs": [
    {
     "data": {
      "text/plain": [
       "76"
      ]
     },
     "execution_count": 10,
     "metadata": {},
     "output_type": "execute_result"
    }
   ],
   "source": [
    "# 9. Find the sum of the indices of the 4 smallest elements of data. (hint)\n",
    "sum(np.argpartition(data, 4)[:4])"
   ]
  },
  {
   "cell_type": "code",
   "execution_count": 11,
   "id": "dfc72c5e",
   "metadata": {},
   "outputs": [],
   "source": [
    "# 10. Given this array of student names and corresponding exam scores,\n",
    "# student = np.array(['Alex','Betty','Chen','David','Eleanor'])\n",
    "# score = np.array([88,93,76,91,80])\n",
    "# sort the names and the scores, each in decreasing order of scores. \n",
    "# Which student has the highest score? \n",
    "# (Encode your answer as a number via 1=Alex, 2=Betty, 3=Chen, 4=David, 5=Eleanor.) (hint)\n"
   ]
  },
  {
   "cell_type": "code",
   "execution_count": 12,
   "id": "313be0db",
   "metadata": {},
   "outputs": [
    {
     "data": {
      "text/plain": [
       "277"
      ]
     },
     "execution_count": 12,
     "metadata": {},
     "output_type": "execute_result"
    }
   ],
   "source": [
    "# 11. Find the sum of values in data that are also in the array \n",
    "# subset = np.array([41,0,46,86,12,26,17,95,5,81,25,2,20,33,33]. (hint)\n",
    "subset = np.array([41,0,46,86,12,26,17,95,5,81,25,2,20,33,33])\n",
    "\n",
    "common_values = data[np.isin(data, subset)]\n",
    "\n",
    "# Summing the common values\n",
    "sum_of_common_values = np.sum(common_values)\n",
    "sum_of_common_values"
   ]
  },
  {
   "cell_type": "code",
   "execution_count": 13,
   "id": "30fc241d",
   "metadata": {},
   "outputs": [
    {
     "data": {
      "text/plain": [
       "1.5"
      ]
     },
     "execution_count": 13,
     "metadata": {},
     "output_type": "execute_result"
    }
   ],
   "source": [
    "# 12. Study the \"Operators\" section of the notes.\n",
    "\n",
    "# Given an array x of x coordinates, and an array y of y coordinates, an intercept a and a slope b, \n",
    "# write a line of code to set a variable SSE to the sum of squared errors for the pairs {(xi,yi)}\n",
    "#  with respect to the line y=a+bx\n",
    "# . That is, find SSE=∑e2i=∑(yi−yi^)2=∑(yi−a−bxi)2\n",
    "# .\n",
    "# For example, for x = np.array([0, 1, 2]); y = np.array([1, 3, 2]);\n",
    "# a = 1.5; b = 0.5, SSE should be 1.5. It is the sum of squared (vertical) errors for the \n",
    "# three points (0, 1), (1, 3), (2, 2) with respect to the line y = 1.5 + 0.5x. \n",
    "# Drawing a picture of these points and this line may be helpful. (hint)\n",
    "\n",
    "x = np.array([0, 1, 2])\n",
    "y = np.array([1, 3, 2])\n",
    "a = 1.5\n",
    "b = 0.5\n",
    "\n",
    "# Calculating the sum of squared errors (SSE)\n",
    "SSE = np.sum((y - (a + b * x)) ** 2)\n",
    "SSE\n"
   ]
  },
  {
   "cell_type": "code",
   "execution_count": 14,
   "id": "dc927ca8",
   "metadata": {},
   "outputs": [
    {
     "data": {
      "text/plain": [
       "724"
      ]
     },
     "execution_count": 14,
     "metadata": {},
     "output_type": "execute_result"
    }
   ],
   "source": [
    "# 13. Study the \"Indexing\" section of the notes.\n",
    "\n",
    "# Find the sum of values in data with even indices. (hint)\n",
    "\n",
    "sum(data[::2])"
   ]
  },
  {
   "cell_type": "code",
   "execution_count": 15,
   "id": "bd4f5f24",
   "metadata": {},
   "outputs": [
    {
     "data": {
      "text/plain": [
       "914"
      ]
     },
     "execution_count": 15,
     "metadata": {},
     "output_type": "execute_result"
    }
   ],
   "source": [
    "# 14. Find the sum of the even values in data. (hint)\n",
    "sum(data[data%2 == 0])"
   ]
  },
  {
   "cell_type": "code",
   "execution_count": 16,
   "id": "b9fe8e11",
   "metadata": {},
   "outputs": [
    {
     "data": {
      "text/plain": [
       "47"
      ]
     },
     "execution_count": 16,
     "metadata": {},
     "output_type": "execute_result"
    }
   ],
   "source": [
    "# 15. Find the sum of the values in data between 10 and 20, inclusive.\n",
    "\n",
    "sum(data[(data >= 10) & (data <= 20)])"
   ]
  },
  {
   "cell_type": "code",
   "execution_count": 23,
   "id": "f6171cbb",
   "metadata": {},
   "outputs": [
    {
     "name": "stdout",
     "output_type": "stream",
     "text": [
      "2\n"
     ]
    }
   ],
   "source": [
    "# 16. Study the \"File input/output\" section of the notes.\n",
    "\n",
    "# Use np.loadtxt() to read the file Hamlet.txt into an array of strings.\n",
    "# Find the number of times the word \"memory\" occurs. \n",
    "# (Don't count variations like \"Memory\" or answer should be a number, not Python code.) (hint)\n",
    "# data = np.loadtxt('Hamlet.txt', dtype=str, delimiter='\\n')\n",
    "\n",
    "# Reading the text file line by line and storing it in a list\n",
    "# with open('Hamlet.txt', 'r', encoding='utf-8') as file:\n",
    "#     lines = file.readlines()\n",
    "\n",
    "# # Converting the list of lines to a NumPy array\n",
    "# data = np.array(lines)\n",
    "# print(data)\n",
    "\n",
    "# Reading the text file and counting the occurrences of the word \"revenge\"\n",
    "with open('Hamlet.txt', 'r', encoding='utf-8') as file:\n",
    "    text_content = file.read()\n",
    "\n",
    "# Converting the text to lowercase to ensure case-insensitive matching\n",
    "# text_content = text_content.lower()\n",
    "\n",
    "# Counting the number of occurrences of the word \"revenge\"\n",
    "count_revenge = text_content.split().count('revenge')\n",
    "print(count_revenge)\n",
    "\n"
   ]
  }
 ],
 "metadata": {
  "kernelspec": {
   "display_name": "Python 3 (ipykernel)",
   "language": "python",
   "name": "python3"
  },
  "language_info": {
   "codemirror_mode": {
    "name": "ipython",
    "version": 3
   },
   "file_extension": ".py",
   "mimetype": "text/x-python",
   "name": "python",
   "nbconvert_exporter": "python",
   "pygments_lexer": "ipython3",
   "version": "3.10.9"
  }
 },
 "nbformat": 4,
 "nbformat_minor": 5
}
