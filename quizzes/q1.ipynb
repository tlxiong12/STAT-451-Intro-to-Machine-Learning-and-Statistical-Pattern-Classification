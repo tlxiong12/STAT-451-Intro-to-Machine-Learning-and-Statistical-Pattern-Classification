{
 "cells": [
  {
   "cell_type": "code",
   "execution_count": 1,
   "id": "19fa2c64",
   "metadata": {},
   "outputs": [],
   "source": [
    "import numpy as np"
   ]
  },
  {
   "cell_type": "code",
   "execution_count": 2,
   "id": "e36b16c7",
   "metadata": {},
   "outputs": [
    {
     "data": {
      "text/plain": [
       "5.636023451737686"
      ]
     },
     "execution_count": 2,
     "metadata": {},
     "output_type": "execute_result"
    }
   ],
   "source": [
    "1009**(1/4)"
   ]
  },
  {
   "cell_type": "code",
   "execution_count": 3,
   "id": "18d898a6",
   "metadata": {},
   "outputs": [
    {
     "data": {
      "text/plain": [
       "77.61538461538461"
      ]
     },
     "execution_count": 3,
     "metadata": {},
     "output_type": "execute_result"
    }
   ],
   "source": [
    "1009/13"
   ]
  },
  {
   "cell_type": "code",
   "execution_count": 4,
   "id": "72d52736",
   "metadata": {},
   "outputs": [
    {
     "data": {
      "text/plain": [
       "6.9167150203536085"
      ]
     },
     "execution_count": 4,
     "metadata": {},
     "output_type": "execute_result"
    }
   ],
   "source": [
    "np.log(1009)"
   ]
  },
  {
   "cell_type": "code",
   "execution_count": 5,
   "id": "e0f24c84",
   "metadata": {},
   "outputs": [
    {
     "data": {
      "text/plain": [
       "15.0"
      ]
     },
     "execution_count": 5,
     "metadata": {},
     "output_type": "execute_result"
    }
   ],
   "source": [
    "np.round(15.188)"
   ]
  },
  {
   "cell_type": "code",
   "execution_count": null,
   "id": "6d5e8a72",
   "metadata": {},
   "outputs": [],
   "source": []
  }
 ],
 "metadata": {
  "kernelspec": {
   "display_name": "Python 3 (ipykernel)",
   "language": "python",
   "name": "python3"
  },
  "language_info": {
   "codemirror_mode": {
    "name": "ipython",
    "version": 3
   },
   "file_extension": ".py",
   "mimetype": "text/x-python",
   "name": "python",
   "nbconvert_exporter": "python",
   "pygments_lexer": "ipython3",
   "version": "3.10.9"
  }
 },
 "nbformat": 4,
 "nbformat_minor": 5
}
