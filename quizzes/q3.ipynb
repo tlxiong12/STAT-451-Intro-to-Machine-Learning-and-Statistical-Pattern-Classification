{
 "cells": [
  {
   "cell_type": "code",
   "execution_count": 1,
   "id": "dc9daf4d",
   "metadata": {},
   "outputs": [
    {
     "data": {
      "text/plain": [
       "'Python'"
      ]
     },
     "execution_count": 1,
     "metadata": {},
     "output_type": "execute_result"
    }
   ],
   "source": [
    "s = 'Learn Python in STAT 451'\n",
    "t = s[6:12] #answer\n",
    "t"
   ]
  },
  {
   "cell_type": "code",
   "execution_count": 2,
   "id": "0b9eb8ad",
   "metadata": {},
   "outputs": [
    {
     "data": {
      "text/plain": [
       "'Learn machine learning in STAT 451'"
      ]
     },
     "execution_count": 2,
     "metadata": {},
     "output_type": "execute_result"
    }
   ],
   "source": [
    "t = s[:6] + 'machine learning' + s[12:] #answer\n",
    "t"
   ]
  },
  {
   "cell_type": "code",
   "execution_count": 3,
   "id": "e529103c",
   "metadata": {},
   "outputs": [
    {
     "data": {
      "text/plain": [
       "'Learn machine learning in STAT 451'"
      ]
     },
     "execution_count": 3,
     "metadata": {},
     "output_type": "execute_result"
    }
   ],
   "source": [
    "#3. I have a string s that contains the substring 'Python'. \n",
    "#(It could be 'Learn Python in STAT 451' or 'Python is better than Excel' or another string.) \n",
    "#Write a line, or a few lines, of code in terms of s that sets a variable t to the slice of s preceding 'Python' \n",
    "#followed by 'machine learning', followed by the slice of s following 'Python'. Hint: Use s.index() to find \n",
    "#the 'Python' substring.\n",
    "\n",
    "\n",
    "index = s.index('Python')\n",
    "t = s[:index] + 'machine learning' + s[index + len('Python'):]\n",
    "t"
   ]
  },
  {
   "cell_type": "code",
   "execution_count": 4,
   "id": "1f6bd9e8",
   "metadata": {},
   "outputs": [
    {
     "data": {
      "text/plain": [
       "'learn python in stat 451'"
      ]
     },
     "execution_count": 4,
     "metadata": {},
     "output_type": "execute_result"
    }
   ],
   "source": [
    "# 4. I have a string s. The code t = s.capitalize() sets t to the capitalized version of s.\n",
    "# Write a similar line of code in terms of s that sets t to the lower-case version of s.\n",
    "# Hint: Search help(str) for 'lowercase' to find the method that does this.\n",
    "t = s.lower() #answer\n",
    "t"
   ]
  },
  {
   "cell_type": "code",
   "execution_count": 5,
   "id": "b24f7ac6",
   "metadata": {},
   "outputs": [
    {
     "ename": "NameError",
     "evalue": "name 'x' is not defined",
     "output_type": "error",
     "traceback": [
      "\u001b[1;31m---------------------------------------------------------------------------\u001b[0m",
      "\u001b[1;31mNameError\u001b[0m                                 Traceback (most recent call last)",
      "Cell \u001b[1;32mIn[5], line 3\u001b[0m\n\u001b[0;32m      1\u001b[0m \u001b[38;5;66;03m# 5. I have set variables x, y, and z.\u001b[39;00m\n\u001b[0;32m      2\u001b[0m \u001b[38;5;66;03m# Write a line of code that prints their labeled values in a format consistent with these examples:\u001b[39;00m\n\u001b[1;32m----> 3\u001b[0m \u001b[38;5;28mprint\u001b[39m(\u001b[38;5;124mf\u001b[39m\u001b[38;5;124m'\u001b[39m\u001b[38;5;124mx=\u001b[39m\u001b[38;5;132;01m{\u001b[39;00mx\u001b[38;5;132;01m}\u001b[39;00m\u001b[38;5;124m, y=\u001b[39m\u001b[38;5;132;01m{\u001b[39;00my\u001b[38;5;132;01m}\u001b[39;00m\u001b[38;5;124m, z=\u001b[39m\u001b[38;5;132;01m{\u001b[39;00mz\u001b[38;5;132;01m}\u001b[39;00m\u001b[38;5;124m'\u001b[39m)\n",
      "\u001b[1;31mNameError\u001b[0m: name 'x' is not defined"
     ]
    }
   ],
   "source": [
    "# 5. I have set variables x, y, and z.\n",
    "# Write a line of code that prints their labeled values in a format consistent with these examples:\n",
    "print(f'x={x}, y={y}, z={z}') #answer\n"
   ]
  },
  {
   "cell_type": "code",
   "execution_count": 6,
   "id": "92c1defd",
   "metadata": {},
   "outputs": [
    {
     "data": {
      "text/plain": [
       "('Anna', 3, ('July', 2017))"
      ]
     },
     "execution_count": 6,
     "metadata": {},
     "output_type": "execute_result"
    }
   ],
   "source": [
    "# 6. Study the \"Tuples\" section of the lecture notes for Sequences.\n",
    "# Write a line of code that sets a variable t to a tuple whose three values are:\n",
    "\n",
    "# 'Anna'\n",
    "# 3\n",
    "# the tuple whose two values are:\n",
    "\n",
    "# 'July'\n",
    "# 2017\n",
    "\n",
    "t = ('Anna', 3, ('July', 2017)) #answer\n",
    "t"
   ]
  },
  {
   "cell_type": "code",
   "execution_count": 7,
   "id": "902028e0",
   "metadata": {},
   "outputs": [
    {
     "data": {
      "text/plain": [
       "['milk', 'eggs', 'flour', 'spinach', 'cereal']"
      ]
     },
     "execution_count": 7,
     "metadata": {},
     "output_type": "execute_result"
    }
   ],
   "source": [
    "# 7. Study the \"Lists\" section of the lecture notes for Sequences.\n",
    "\n",
    "# I have run the code groceries = ['milk', 'eggs', 'flour'] and the code more = ['spinach', 'cereal']. \n",
    "# Write a line of code in terms of groceries and more that adds the words from more to the groceries list.\n",
    "groceries = ['milk', 'eggs', 'flour']\n",
    "more = ['spinach', 'cereal']\n",
    "\n",
    "groceries.extend(more) #answer\n",
    "groceries"
   ]
  },
  {
   "cell_type": "code",
   "execution_count": 8,
   "id": "9fb3e23d",
   "metadata": {},
   "outputs": [
    {
     "data": {
      "text/plain": [
       "7"
      ]
     },
     "execution_count": 8,
     "metadata": {},
     "output_type": "execute_result"
    }
   ],
   "source": [
    "#8 Assign a variable x to the list [4,5,0,5,7,2,5] in Jupyter Notebook.\n",
    "#Set a variable n to the length of this list. What is its value?\n",
    "\n",
    "x = [4,5,0,5,7,2,5]\n",
    "n = len(x) #answer\n",
    "n"
   ]
  },
  {
   "cell_type": "code",
   "execution_count": 9,
   "id": "5b6cc9b7",
   "metadata": {},
   "outputs": [
    {
     "data": {
      "text/plain": [
       "28"
      ]
     },
     "execution_count": 9,
     "metadata": {},
     "output_type": "execute_result"
    }
   ],
   "source": [
    "# 9. For each of the next four questions, use your previously set variables to avoid repeating work.\n",
    "# Set a variable x_sum to the sample sum, ∑ni=1xi\n",
    "# . What is its value?\n",
    "x_sum = sum(x) #answer\n",
    "x_sum"
   ]
  },
  {
   "cell_type": "code",
   "execution_count": 10,
   "id": "0488d7a3",
   "metadata": {},
   "outputs": [
    {
     "data": {
      "text/plain": [
       "4.0"
      ]
     },
     "execution_count": 10,
     "metadata": {},
     "output_type": "execute_result"
    }
   ],
   "source": [
    "# 10. Set a variable x_bar to the sample mean, x¯=1n∑ni=1xi\n",
    "# . What is its value?\n",
    "\n",
    "x_sum = sum(x)\n",
    "x_bar = x_sum / n\n",
    "x_bar"
   ]
  },
  {
   "cell_type": "code",
   "execution_count": 13,
   "id": "f9db3264",
   "metadata": {},
   "outputs": [
    {
     "data": {
      "text/plain": [
       "35.33333333333334"
      ]
     },
     "execution_count": 13,
     "metadata": {},
     "output_type": "execute_result"
    }
   ],
   "source": [
    "x = [4, 0, 4, 7, 6, 7]\n",
    "n = len(x)\n",
    "x_sum = sum(x)\n",
    "x_bar = x_sum / n\n",
    "\n",
    "ssd_x = 0\n",
    "for xi in x:\n",
    "    ssd_x += (xi - x_bar) ** 2\n",
    "\n",
    "ssd_x  # This will give you the sum of squared deviations\n"
   ]
  },
  {
   "cell_type": "code",
   "execution_count": 16,
   "id": "61456b1d",
   "metadata": {},
   "outputs": [
    {
     "data": {
      "text/plain": [
       "7.066666666666668"
      ]
     },
     "execution_count": 16,
     "metadata": {},
     "output_type": "execute_result"
    }
   ],
   "source": [
    "# 12. Set a variable var_x to the sample variance, 1n−1∑ni=1(xi−x¯)2\n",
    "# . What is its value?\n",
    "x = [4, 0, 4, 7, 6, 7]\n",
    "n = len(x)\n",
    "x_sum = sum(x)\n",
    "x_bar = x_sum / n\n",
    "\n",
    "ssd_x = 0\n",
    "for xi in x:\n",
    "    ssd_x += (xi - x_bar) ** 2\n",
    "\n",
    "var_x = ssd_x / (n - 1)\n",
    "var_x"
   ]
  },
  {
   "cell_type": "code",
   "execution_count": null,
   "id": "f5a13bf7",
   "metadata": {},
   "outputs": [],
   "source": []
  },
  {
   "cell_type": "code",
   "execution_count": null,
   "id": "80338fc9",
   "metadata": {},
   "outputs": [],
   "source": []
  }
 ],
 "metadata": {
  "kernelspec": {
   "display_name": "Python 3 (ipykernel)",
   "language": "python",
   "name": "python3"
  },
  "language_info": {
   "codemirror_mode": {
    "name": "ipython",
    "version": 3
   },
   "file_extension": ".py",
   "mimetype": "text/x-python",
   "name": "python",
   "nbconvert_exporter": "python",
   "pygments_lexer": "ipython3",
   "version": "3.10.9"
  }
 },
 "nbformat": 4,
 "nbformat_minor": 5
}
