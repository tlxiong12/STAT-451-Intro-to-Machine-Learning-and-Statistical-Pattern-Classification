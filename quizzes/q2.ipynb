{
 "cells": [
  {
   "cell_type": "markdown",
   "id": "16f3b3b0",
   "metadata": {},
   "source": [
    "$C = P[(1 + r)*n - 1]$\n",
    "\n",
    "$C = P[(1 + r)**n - 1]$\n",
    "\n",
    "$C = P[(1 + r)^n - 1]$\n",
    "\n",
    "$C = P*[(1 + r)^n - 1]$\n",
    "\n",
    "\n",
    "\n",
    "\n",
    "\n"
   ]
  },
  {
   "cell_type": "markdown",
   "id": "2b5b4067",
   "metadata": {},
   "source": [
    "$C = Pe^{rt}$\n",
    "\n",
    "$C = Pe^rt$\n",
    "\n",
    "$C = Pe**{rt}$\n",
    "\n",
    "$C = Pe**rt$"
   ]
  },
  {
   "cell_type": "code",
   "execution_count": null,
   "id": "a4058af3",
   "metadata": {},
   "outputs": [],
   "source": []
  }
 ],
 "metadata": {
  "kernelspec": {
   "display_name": "Python 3 (ipykernel)",
   "language": "python",
   "name": "python3"
  },
  "language_info": {
   "codemirror_mode": {
    "name": "ipython",
    "version": 3
   },
   "file_extension": ".py",
   "mimetype": "text/x-python",
   "name": "python",
   "nbconvert_exporter": "python",
   "pygments_lexer": "ipython3",
   "version": "3.10.9"
  }
 },
 "nbformat": 4,
 "nbformat_minor": 5
}
